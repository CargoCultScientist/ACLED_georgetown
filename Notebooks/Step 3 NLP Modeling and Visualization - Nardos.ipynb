{
 "cells": [
  {
   "cell_type": "code",
   "execution_count": 154,
   "id": "8888326b",
   "metadata": {},
   "outputs": [],
   "source": [
    "import pandas as pd\n",
    "import os\n",
    "import csv\n",
    "engine='python'\n",
    "\n",
    "import matplotlib.pyplot as plt\n",
    "import numpy as np\n",
    "from scipy import stats\n",
    "import seaborn as sns\n",
    "import ipywidgets as widgets\n",
    "from IPython.display import display"
   ]
  },
  {
   "cell_type": "code",
   "execution_count": 155,
   "id": "337690f9",
   "metadata": {},
   "outputs": [
    {
     "name": "stdout",
     "output_type": "stream",
     "text": [
      "C:\\Users\\ntsegie\\Documents\\Datascience\\Class_Files\\ACLED\\ACLED\\Notebooks\n"
     ]
    }
   ],
   "source": [
    "current_directory = os.getcwd()\n",
    "print(current_directory) "
   ]
  },
  {
   "cell_type": "code",
   "execution_count": 156,
   "id": "5800b4a8",
   "metadata": {},
   "outputs": [],
   "source": [
    "path = r'C:\\Users\\ntsegie\\Documents\\Datascience\\Class_Files\\ACLED\\ACLED\\CSV_Main\\Africa_3years.csv'\n",
    "df = pd.read_csv(path, index_col=0)"
   ]
  },
  {
   "cell_type": "code",
   "execution_count": 157,
   "id": "02f7f4fe",
   "metadata": {
    "scrolled": true
   },
   "outputs": [
    {
     "data": {
      "text/html": [
       "<div>\n",
       "<style scoped>\n",
       "    .dataframe tbody tr th:only-of-type {\n",
       "        vertical-align: middle;\n",
       "    }\n",
       "\n",
       "    .dataframe tbody tr th {\n",
       "        vertical-align: top;\n",
       "    }\n",
       "\n",
       "    .dataframe thead th {\n",
       "        text-align: right;\n",
       "    }\n",
       "</style>\n",
       "<table border=\"1\" class=\"dataframe\">\n",
       "  <thead>\n",
       "    <tr style=\"text-align: right;\">\n",
       "      <th></th>\n",
       "      <th>iso</th>\n",
       "      <th>event_id_cnty</th>\n",
       "      <th>event_id_no_cnty</th>\n",
       "      <th>event_date</th>\n",
       "      <th>year</th>\n",
       "      <th>time_precision</th>\n",
       "      <th>event_type</th>\n",
       "      <th>sub_event_type</th>\n",
       "      <th>actor1</th>\n",
       "      <th>assoc_actor_1</th>\n",
       "      <th>...</th>\n",
       "      <th>location</th>\n",
       "      <th>latitude</th>\n",
       "      <th>longitude</th>\n",
       "      <th>geo_precision</th>\n",
       "      <th>source</th>\n",
       "      <th>source_scale</th>\n",
       "      <th>notes</th>\n",
       "      <th>fatalities</th>\n",
       "      <th>timestamp</th>\n",
       "      <th>iso3</th>\n",
       "    </tr>\n",
       "    <tr>\n",
       "      <th>data_id</th>\n",
       "      <th></th>\n",
       "      <th></th>\n",
       "      <th></th>\n",
       "      <th></th>\n",
       "      <th></th>\n",
       "      <th></th>\n",
       "      <th></th>\n",
       "      <th></th>\n",
       "      <th></th>\n",
       "      <th></th>\n",
       "      <th></th>\n",
       "      <th></th>\n",
       "      <th></th>\n",
       "      <th></th>\n",
       "      <th></th>\n",
       "      <th></th>\n",
       "      <th></th>\n",
       "      <th></th>\n",
       "      <th></th>\n",
       "      <th></th>\n",
       "      <th></th>\n",
       "    </tr>\n",
       "  </thead>\n",
       "  <tbody>\n",
       "    <tr>\n",
       "      <th>8403972</th>\n",
       "      <td>706</td>\n",
       "      <td>SOM34405</td>\n",
       "      <td>34405</td>\n",
       "      <td>30 July 2021</td>\n",
       "      <td>2021</td>\n",
       "      <td>1</td>\n",
       "      <td>Battles</td>\n",
       "      <td>Armed clash</td>\n",
       "      <td>Al Shabaab</td>\n",
       "      <td>NaN</td>\n",
       "      <td>...</td>\n",
       "      <td>Diinsoor</td>\n",
       "      <td>2.4074</td>\n",
       "      <td>42.9766</td>\n",
       "      <td>1</td>\n",
       "      <td>Radio Risala</td>\n",
       "      <td>National</td>\n",
       "      <td>On 30 July 2021, Al Shabaab militants carried ...</td>\n",
       "      <td>0</td>\n",
       "      <td>1627934659</td>\n",
       "      <td>SOM</td>\n",
       "    </tr>\n",
       "    <tr>\n",
       "      <th>8403725</th>\n",
       "      <td>706</td>\n",
       "      <td>SOM34404</td>\n",
       "      <td>34404</td>\n",
       "      <td>30 July 2021</td>\n",
       "      <td>2021</td>\n",
       "      <td>1</td>\n",
       "      <td>Battles</td>\n",
       "      <td>Non-state actor overtakes territory</td>\n",
       "      <td>Al Shabaab</td>\n",
       "      <td>NaN</td>\n",
       "      <td>...</td>\n",
       "      <td>Daynuunay</td>\n",
       "      <td>3.0399</td>\n",
       "      <td>43.7969</td>\n",
       "      <td>1</td>\n",
       "      <td>Calamada</td>\n",
       "      <td>Subnational</td>\n",
       "      <td>On 30 July 2021, Al Shabaab militants attacked...</td>\n",
       "      <td>1</td>\n",
       "      <td>1627934658</td>\n",
       "      <td>SOM</td>\n",
       "    </tr>\n",
       "    <tr>\n",
       "      <th>8403994</th>\n",
       "      <td>148</td>\n",
       "      <td>CHA1310</td>\n",
       "      <td>1310</td>\n",
       "      <td>30 July 2021</td>\n",
       "      <td>2021</td>\n",
       "      <td>1</td>\n",
       "      <td>Protests</td>\n",
       "      <td>Excessive force against protesters</td>\n",
       "      <td>Protesters (Chad)</td>\n",
       "      <td>NaN</td>\n",
       "      <td>...</td>\n",
       "      <td>NDjamena</td>\n",
       "      <td>12.1085</td>\n",
       "      <td>15.0482</td>\n",
       "      <td>1</td>\n",
       "      <td>RFI</td>\n",
       "      <td>International</td>\n",
       "      <td>On 30 July 2021, the Mobile Intervention Unit ...</td>\n",
       "      <td>0</td>\n",
       "      <td>1627934659</td>\n",
       "      <td>TCD</td>\n",
       "    </tr>\n",
       "    <tr>\n",
       "      <th>8403499</th>\n",
       "      <td>854</td>\n",
       "      <td>BFO5097</td>\n",
       "      <td>5097</td>\n",
       "      <td>30 July 2021</td>\n",
       "      <td>2021</td>\n",
       "      <td>1</td>\n",
       "      <td>Violence against civilians</td>\n",
       "      <td>Attack</td>\n",
       "      <td>JNIM: Group for Support of Islam and Muslims</td>\n",
       "      <td>NaN</td>\n",
       "      <td>...</td>\n",
       "      <td>Tialboanga</td>\n",
       "      <td>12.3512</td>\n",
       "      <td>1.2778</td>\n",
       "      <td>1</td>\n",
       "      <td>Signal; Facebook</td>\n",
       "      <td>New media</td>\n",
       "      <td>On 30 July 2021, presumed JNIM militants made ...</td>\n",
       "      <td>0</td>\n",
       "      <td>1627934658</td>\n",
       "      <td>BFA</td>\n",
       "    </tr>\n",
       "    <tr>\n",
       "      <th>8404027</th>\n",
       "      <td>788</td>\n",
       "      <td>TUN8675</td>\n",
       "      <td>8675</td>\n",
       "      <td>30 July 2021</td>\n",
       "      <td>2021</td>\n",
       "      <td>1</td>\n",
       "      <td>Protests</td>\n",
       "      <td>Peaceful protest</td>\n",
       "      <td>Protesters (Tunisia)</td>\n",
       "      <td>NaN</td>\n",
       "      <td>...</td>\n",
       "      <td>Redeyef</td>\n",
       "      <td>34.3827</td>\n",
       "      <td>8.1555</td>\n",
       "      <td>1</td>\n",
       "      <td>Tunisie Numerique</td>\n",
       "      <td>National</td>\n",
       "      <td>On 30 July 2021, residents held a sit-in in Re...</td>\n",
       "      <td>0</td>\n",
       "      <td>1627934659</td>\n",
       "      <td>TUN</td>\n",
       "    </tr>\n",
       "    <tr>\n",
       "      <th>...</th>\n",
       "      <td>...</td>\n",
       "      <td>...</td>\n",
       "      <td>...</td>\n",
       "      <td>...</td>\n",
       "      <td>...</td>\n",
       "      <td>...</td>\n",
       "      <td>...</td>\n",
       "      <td>...</td>\n",
       "      <td>...</td>\n",
       "      <td>...</td>\n",
       "      <td>...</td>\n",
       "      <td>...</td>\n",
       "      <td>...</td>\n",
       "      <td>...</td>\n",
       "      <td>...</td>\n",
       "      <td>...</td>\n",
       "      <td>...</td>\n",
       "      <td>...</td>\n",
       "      <td>...</td>\n",
       "      <td>...</td>\n",
       "      <td>...</td>\n",
       "    </tr>\n",
       "    <tr>\n",
       "      <th>7580116</th>\n",
       "      <td>566</td>\n",
       "      <td>NIG12918</td>\n",
       "      <td>12918</td>\n",
       "      <td>30 July 2018</td>\n",
       "      <td>2018</td>\n",
       "      <td>1</td>\n",
       "      <td>Protests</td>\n",
       "      <td>Peaceful protest</td>\n",
       "      <td>Protesters (Nigeria)</td>\n",
       "      <td>TRTU: Tricycle Riders Transport Union</td>\n",
       "      <td>...</td>\n",
       "      <td>Maiduguri</td>\n",
       "      <td>11.8312</td>\n",
       "      <td>13.1517</td>\n",
       "      <td>1</td>\n",
       "      <td>Vanguard (Nigeria)</td>\n",
       "      <td>National</td>\n",
       "      <td>30 July. Tricycle operators under the aegis of...</td>\n",
       "      <td>0</td>\n",
       "      <td>1618566301</td>\n",
       "      <td>NGA</td>\n",
       "    </tr>\n",
       "    <tr>\n",
       "      <th>7999450</th>\n",
       "      <td>706</td>\n",
       "      <td>SOM26334</td>\n",
       "      <td>26334</td>\n",
       "      <td>30 July 2018</td>\n",
       "      <td>2018</td>\n",
       "      <td>1</td>\n",
       "      <td>Explosions/Remote violence</td>\n",
       "      <td>Grenade</td>\n",
       "      <td>Al Shabaab</td>\n",
       "      <td>NaN</td>\n",
       "      <td>...</td>\n",
       "      <td>Mogadishu - Hodan</td>\n",
       "      <td>2.0333</td>\n",
       "      <td>45.3500</td>\n",
       "      <td>1</td>\n",
       "      <td>Undisclosed Source</td>\n",
       "      <td>Local partner-Other</td>\n",
       "      <td>On 30 July, a grenade was thrown at Somali Nat...</td>\n",
       "      <td>0</td>\n",
       "      <td>1621903738</td>\n",
       "      <td>SOM</td>\n",
       "    </tr>\n",
       "    <tr>\n",
       "      <th>8380396</th>\n",
       "      <td>466</td>\n",
       "      <td>MLI2204</td>\n",
       "      <td>2204</td>\n",
       "      <td>30 July 2018</td>\n",
       "      <td>2018</td>\n",
       "      <td>1</td>\n",
       "      <td>Explosions/Remote violence</td>\n",
       "      <td>Remote explosive/landmine/IED</td>\n",
       "      <td>Ansar Dine</td>\n",
       "      <td>JNIM: Group for Support of Islam and Muslims</td>\n",
       "      <td>...</td>\n",
       "      <td>Kidal</td>\n",
       "      <td>18.4400</td>\n",
       "      <td>1.4100</td>\n",
       "      <td>2</td>\n",
       "      <td>Twitter</td>\n",
       "      <td>New media</td>\n",
       "      <td>On 30 July 2018, presumed Ansar Dine militant ...</td>\n",
       "      <td>0</td>\n",
       "      <td>1626129975</td>\n",
       "      <td>MLI</td>\n",
       "    </tr>\n",
       "    <tr>\n",
       "      <th>4618224</th>\n",
       "      <td>800</td>\n",
       "      <td>UGA5156</td>\n",
       "      <td>5156</td>\n",
       "      <td>30 July 2018</td>\n",
       "      <td>2018</td>\n",
       "      <td>1</td>\n",
       "      <td>Riots</td>\n",
       "      <td>Violent demonstration</td>\n",
       "      <td>Rioters (Uganda)</td>\n",
       "      <td>NaN</td>\n",
       "      <td>...</td>\n",
       "      <td>Kibingo</td>\n",
       "      <td>-0.5527</td>\n",
       "      <td>30.4159</td>\n",
       "      <td>2</td>\n",
       "      <td>Chimp Reports</td>\n",
       "      <td>National</td>\n",
       "      <td>On 30 July, members of a local NGO at a protes...</td>\n",
       "      <td>0</td>\n",
       "      <td>1618581946</td>\n",
       "      <td>UGA</td>\n",
       "    </tr>\n",
       "    <tr>\n",
       "      <th>5636345</th>\n",
       "      <td>706</td>\n",
       "      <td>SOM26333</td>\n",
       "      <td>26333</td>\n",
       "      <td>30 July 2018</td>\n",
       "      <td>2018</td>\n",
       "      <td>1</td>\n",
       "      <td>Explosions/Remote violence</td>\n",
       "      <td>Air/drone strike</td>\n",
       "      <td>Military Forces of Kenya (2013-)</td>\n",
       "      <td>NaN</td>\n",
       "      <td>...</td>\n",
       "      <td>Kibis</td>\n",
       "      <td>3.3314</td>\n",
       "      <td>41.9485</td>\n",
       "      <td>2</td>\n",
       "      <td>Intelligence Briefs; Mareeg News (Somalia)</td>\n",
       "      <td>Other-National</td>\n",
       "      <td>On 30 July, a Kenyan military warplane reporte...</td>\n",
       "      <td>19</td>\n",
       "      <td>1563903164</td>\n",
       "      <td>SOM</td>\n",
       "    </tr>\n",
       "  </tbody>\n",
       "</table>\n",
       "<p>85200 rows × 30 columns</p>\n",
       "</div>"
      ],
      "text/plain": [
       "         iso event_id_cnty  event_id_no_cnty    event_date  year  \\\n",
       "data_id                                                            \n",
       "8403972  706      SOM34405             34405  30 July 2021  2021   \n",
       "8403725  706      SOM34404             34404  30 July 2021  2021   \n",
       "8403994  148       CHA1310              1310  30 July 2021  2021   \n",
       "8403499  854       BFO5097              5097  30 July 2021  2021   \n",
       "8404027  788       TUN8675              8675  30 July 2021  2021   \n",
       "...      ...           ...               ...           ...   ...   \n",
       "7580116  566      NIG12918             12918  30 July 2018  2018   \n",
       "7999450  706      SOM26334             26334  30 July 2018  2018   \n",
       "8380396  466       MLI2204              2204  30 July 2018  2018   \n",
       "4618224  800       UGA5156              5156  30 July 2018  2018   \n",
       "5636345  706      SOM26333             26333  30 July 2018  2018   \n",
       "\n",
       "         time_precision                  event_type  \\\n",
       "data_id                                               \n",
       "8403972               1                     Battles   \n",
       "8403725               1                     Battles   \n",
       "8403994               1                    Protests   \n",
       "8403499               1  Violence against civilians   \n",
       "8404027               1                    Protests   \n",
       "...                 ...                         ...   \n",
       "7580116               1                    Protests   \n",
       "7999450               1  Explosions/Remote violence   \n",
       "8380396               1  Explosions/Remote violence   \n",
       "4618224               1                       Riots   \n",
       "5636345               1  Explosions/Remote violence   \n",
       "\n",
       "                              sub_event_type  \\\n",
       "data_id                                        \n",
       "8403972                          Armed clash   \n",
       "8403725  Non-state actor overtakes territory   \n",
       "8403994   Excessive force against protesters   \n",
       "8403499                               Attack   \n",
       "8404027                     Peaceful protest   \n",
       "...                                      ...   \n",
       "7580116                     Peaceful protest   \n",
       "7999450                              Grenade   \n",
       "8380396        Remote explosive/landmine/IED   \n",
       "4618224                Violent demonstration   \n",
       "5636345                     Air/drone strike   \n",
       "\n",
       "                                               actor1  \\\n",
       "data_id                                                 \n",
       "8403972                                    Al Shabaab   \n",
       "8403725                                    Al Shabaab   \n",
       "8403994                             Protesters (Chad)   \n",
       "8403499  JNIM: Group for Support of Islam and Muslims   \n",
       "8404027                          Protesters (Tunisia)   \n",
       "...                                               ...   \n",
       "7580116                          Protesters (Nigeria)   \n",
       "7999450                                    Al Shabaab   \n",
       "8380396                                    Ansar Dine   \n",
       "4618224                              Rioters (Uganda)   \n",
       "5636345              Military Forces of Kenya (2013-)   \n",
       "\n",
       "                                        assoc_actor_1  ...           location  \\\n",
       "data_id                                                ...                      \n",
       "8403972                                           NaN  ...           Diinsoor   \n",
       "8403725                                           NaN  ...          Daynuunay   \n",
       "8403994                                           NaN  ...           NDjamena   \n",
       "8403499                                           NaN  ...         Tialboanga   \n",
       "8404027                                           NaN  ...            Redeyef   \n",
       "...                                               ...  ...                ...   \n",
       "7580116         TRTU: Tricycle Riders Transport Union  ...          Maiduguri   \n",
       "7999450                                           NaN  ...  Mogadishu - Hodan   \n",
       "8380396  JNIM: Group for Support of Islam and Muslims  ...              Kidal   \n",
       "4618224                                           NaN  ...            Kibingo   \n",
       "5636345                                           NaN  ...              Kibis   \n",
       "\n",
       "        latitude longitude  geo_precision  \\\n",
       "data_id                                     \n",
       "8403972   2.4074   42.9766              1   \n",
       "8403725   3.0399   43.7969              1   \n",
       "8403994  12.1085   15.0482              1   \n",
       "8403499  12.3512    1.2778              1   \n",
       "8404027  34.3827    8.1555              1   \n",
       "...          ...       ...            ...   \n",
       "7580116  11.8312   13.1517              1   \n",
       "7999450   2.0333   45.3500              1   \n",
       "8380396  18.4400    1.4100              2   \n",
       "4618224  -0.5527   30.4159              2   \n",
       "5636345   3.3314   41.9485              2   \n",
       "\n",
       "                                             source         source_scale  \\\n",
       "data_id                                                                    \n",
       "8403972                                Radio Risala             National   \n",
       "8403725                                    Calamada          Subnational   \n",
       "8403994                                         RFI        International   \n",
       "8403499                            Signal; Facebook            New media   \n",
       "8404027                           Tunisie Numerique             National   \n",
       "...                                             ...                  ...   \n",
       "7580116                          Vanguard (Nigeria)             National   \n",
       "7999450                          Undisclosed Source  Local partner-Other   \n",
       "8380396                                     Twitter            New media   \n",
       "4618224                               Chimp Reports             National   \n",
       "5636345  Intelligence Briefs; Mareeg News (Somalia)       Other-National   \n",
       "\n",
       "                                                     notes fatalities  \\\n",
       "data_id                                                                 \n",
       "8403972  On 30 July 2021, Al Shabaab militants carried ...          0   \n",
       "8403725  On 30 July 2021, Al Shabaab militants attacked...          1   \n",
       "8403994  On 30 July 2021, the Mobile Intervention Unit ...          0   \n",
       "8403499  On 30 July 2021, presumed JNIM militants made ...          0   \n",
       "8404027  On 30 July 2021, residents held a sit-in in Re...          0   \n",
       "...                                                    ...        ...   \n",
       "7580116  30 July. Tricycle operators under the aegis of...          0   \n",
       "7999450  On 30 July, a grenade was thrown at Somali Nat...          0   \n",
       "8380396  On 30 July 2018, presumed Ansar Dine militant ...          0   \n",
       "4618224  On 30 July, members of a local NGO at a protes...          0   \n",
       "5636345  On 30 July, a Kenyan military warplane reporte...         19   \n",
       "\n",
       "          timestamp iso3  \n",
       "data_id                   \n",
       "8403972  1627934659  SOM  \n",
       "8403725  1627934658  SOM  \n",
       "8403994  1627934659  TCD  \n",
       "8403499  1627934658  BFA  \n",
       "8404027  1627934659  TUN  \n",
       "...             ...  ...  \n",
       "7580116  1618566301  NGA  \n",
       "7999450  1621903738  SOM  \n",
       "8380396  1626129975  MLI  \n",
       "4618224  1618581946  UGA  \n",
       "5636345  1563903164  SOM  \n",
       "\n",
       "[85200 rows x 30 columns]"
      ]
     },
     "execution_count": 157,
     "metadata": {},
     "output_type": "execute_result"
    }
   ],
   "source": [
    "df"
   ]
  },
  {
   "cell_type": "code",
   "execution_count": 167,
   "id": "42d31da4",
   "metadata": {},
   "outputs": [],
   "source": [
    "# using jupyter widget to create a drop down to filter by country and eventtype\n",
    "\n",
    "ALL = 'ALL'\n",
    "def unique_sorted_values_plus_ALL(array):\n",
    "    unique = array.unique().tolist()\n",
    "    unique.sort()\n",
    "    unique.insert(0, ALL)\n",
    "    return unique"
   ]
  },
  {
   "cell_type": "code",
   "execution_count": 168,
   "id": "4c9b31a6",
   "metadata": {},
   "outputs": [],
   "source": [
    "dropdown_country = widgets.Dropdown(options = unique_sorted_values_plus_ALL(df.country))\n",
    "dropdown_eventtype = widgets.Dropdown(options = unique_sorted_values_plus_ALL(df.event_type))"
   ]
  },
  {
   "cell_type": "code",
   "execution_count": 169,
   "id": "9edf2c74",
   "metadata": {},
   "outputs": [],
   "source": [
    "# output_country = widgets.Output()\n",
    "output = widgets.Output()\n",
    "plot_output = widgets.Output()"
   ]
  },
  {
   "cell_type": "code",
   "execution_count": 170,
   "id": "82693d3f",
   "metadata": {},
   "outputs": [],
   "source": [
    "def common_filtering(country, event_type):\n",
    "    output.clear_output()\n",
    "    plot_output.clear_output()\n",
    "    \n",
    "    if (country == ALL) & (event_type == ALL):\n",
    "        common_filter = df\n",
    "    elif (country == ALL):\n",
    "        common_filter = df[df.event_type == event_type]\n",
    "    elif (event_type == ALL):\n",
    "        common_filter = df[df.country == country]\n",
    "    else:\n",
    "        common_filter = df[(df.country == country) & \n",
    "                                  (df.event_type == event_type)]\n",
    "    \n",
    "    with output:\n",
    "        display(common_filter)\n",
    "        \n",
    "    with plot_output:\n",
    "        sns.kdeplot(common_filter['fatalities'], shade=True)\n",
    "        plt.show()"
   ]
  },
  {
   "cell_type": "code",
   "execution_count": 171,
   "id": "4c137eee",
   "metadata": {},
   "outputs": [],
   "source": [
    "def dropdown_country_eventhandler(change):\n",
    "    common_filtering(change.new, dropdown_eventtype.value)\n",
    "def dropdown_eventtype_eventhandler(change):\n",
    "    common_filtering(dropdown_country.value, change.new)\n",
    "\n"
   ]
  },
  {
   "cell_type": "code",
   "execution_count": 172,
   "id": "605f4b94",
   "metadata": {},
   "outputs": [],
   "source": [
    "dropdown_eventtype.observe(dropdown_eventtype_eventhandler, names='value')\n"
   ]
  },
  {
   "cell_type": "code",
   "execution_count": 173,
   "id": "289cd70e",
   "metadata": {
    "scrolled": true
   },
   "outputs": [],
   "source": [
    "dropdown_country.observe(dropdown_country_eventhandler, names='value')\n"
   ]
  },
  {
   "cell_type": "code",
   "execution_count": 176,
   "id": "ed1841c9",
   "metadata": {
    "scrolled": false
   },
   "outputs": [
    {
     "data": {
      "application/vnd.jupyter.widget-view+json": {
       "model_id": "7a3e428e85b44c039a91463d53bb74c3",
       "version_major": 2,
       "version_minor": 0
      },
      "text/plain": [
       "Dropdown(index=15, options=('ALL', 'Algeria', 'Angola', 'Benin', 'Botswana', 'Burkina Faso', 'Burundi', 'Camer…"
      ]
     },
     "metadata": {},
     "output_type": "display_data"
    },
    {
     "data": {
      "application/vnd.jupyter.widget-view+json": {
       "model_id": "334a6c04c0e74e578bd06b035410b6f2",
       "version_major": 2,
       "version_minor": 0
      },
      "text/plain": [
       "Dropdown(index=3, options=('ALL', 'Battles', 'Explosions/Remote violence', 'Protests', 'Riots', 'Strategic dev…"
      ]
     },
     "metadata": {},
     "output_type": "display_data"
    }
   ],
   "source": [
    "display(dropdown_country)\n",
    "display(dropdown_eventtype)"
   ]
  },
  {
   "cell_type": "code",
   "execution_count": 177,
   "id": "c5ac0673",
   "metadata": {
    "scrolled": true
   },
   "outputs": [
    {
     "data": {
      "application/vnd.jupyter.widget-view+json": {
       "model_id": "d33d9a2b138a443990ee21b431882aef",
       "version_major": 2,
       "version_minor": 0
      },
      "text/plain": [
       "Output(outputs=({'output_type': 'display_data', 'data': {'text/plain': \"         iso event_id_cnty  event_id_n…"
      ]
     },
     "metadata": {},
     "output_type": "display_data"
    },
    {
     "data": {
      "application/vnd.jupyter.widget-view+json": {
       "model_id": "d949a6b6acf54218aa330e339190d1a8",
       "version_major": 2,
       "version_minor": 0
      },
      "text/plain": [
       "Output(outputs=({'output_type': 'display_data', 'data': {'text/plain': '<Figure size 576x396 with 1 Axes>', 'i…"
      ]
     },
     "metadata": {},
     "output_type": "display_data"
    }
   ],
   "source": [
    "display(output)\n",
    "display(plot_output)"
   ]
  },
  {
   "cell_type": "markdown",
   "id": "0dcac7d2",
   "metadata": {},
   "source": [
    "# Initial ACLED Data Cleaning and Exploration "
   ]
  },
  {
   "cell_type": "code",
   "execution_count": 41,
   "id": "1bd0727f",
   "metadata": {},
   "outputs": [
    {
     "data": {
      "text/plain": [
       "(85200, 30)"
      ]
     },
     "execution_count": 41,
     "metadata": {},
     "output_type": "execute_result"
    }
   ],
   "source": [
    "# how many rows and columns\n",
    "df.shape"
   ]
  },
  {
   "cell_type": "code",
   "execution_count": 42,
   "id": "7736ae2c",
   "metadata": {},
   "outputs": [
    {
     "data": {
      "text/html": [
       "<div>\n",
       "<style scoped>\n",
       "    .dataframe tbody tr th:only-of-type {\n",
       "        vertical-align: middle;\n",
       "    }\n",
       "\n",
       "    .dataframe tbody tr th {\n",
       "        vertical-align: top;\n",
       "    }\n",
       "\n",
       "    .dataframe thead th {\n",
       "        text-align: right;\n",
       "    }\n",
       "</style>\n",
       "<table border=\"1\" class=\"dataframe\">\n",
       "  <thead>\n",
       "    <tr style=\"text-align: right;\">\n",
       "      <th></th>\n",
       "      <th>iso</th>\n",
       "      <th>event_id_cnty</th>\n",
       "      <th>event_id_no_cnty</th>\n",
       "      <th>event_date</th>\n",
       "      <th>year</th>\n",
       "      <th>time_precision</th>\n",
       "      <th>event_type</th>\n",
       "      <th>sub_event_type</th>\n",
       "      <th>actor1</th>\n",
       "      <th>assoc_actor_1</th>\n",
       "      <th>...</th>\n",
       "      <th>location</th>\n",
       "      <th>latitude</th>\n",
       "      <th>longitude</th>\n",
       "      <th>geo_precision</th>\n",
       "      <th>source</th>\n",
       "      <th>source_scale</th>\n",
       "      <th>notes</th>\n",
       "      <th>fatalities</th>\n",
       "      <th>timestamp</th>\n",
       "      <th>iso3</th>\n",
       "    </tr>\n",
       "    <tr>\n",
       "      <th>data_id</th>\n",
       "      <th></th>\n",
       "      <th></th>\n",
       "      <th></th>\n",
       "      <th></th>\n",
       "      <th></th>\n",
       "      <th></th>\n",
       "      <th></th>\n",
       "      <th></th>\n",
       "      <th></th>\n",
       "      <th></th>\n",
       "      <th></th>\n",
       "      <th></th>\n",
       "      <th></th>\n",
       "      <th></th>\n",
       "      <th></th>\n",
       "      <th></th>\n",
       "      <th></th>\n",
       "      <th></th>\n",
       "      <th></th>\n",
       "      <th></th>\n",
       "      <th></th>\n",
       "    </tr>\n",
       "  </thead>\n",
       "  <tbody>\n",
       "    <tr>\n",
       "      <th>8403972</th>\n",
       "      <td>706</td>\n",
       "      <td>SOM34405</td>\n",
       "      <td>34405</td>\n",
       "      <td>30 July 2021</td>\n",
       "      <td>2021</td>\n",
       "      <td>1</td>\n",
       "      <td>Battles</td>\n",
       "      <td>Armed clash</td>\n",
       "      <td>Al Shabaab</td>\n",
       "      <td>NaN</td>\n",
       "      <td>...</td>\n",
       "      <td>Diinsoor</td>\n",
       "      <td>2.4074</td>\n",
       "      <td>42.9766</td>\n",
       "      <td>1</td>\n",
       "      <td>Radio Risala</td>\n",
       "      <td>National</td>\n",
       "      <td>On 30 July 2021, Al Shabaab militants carried ...</td>\n",
       "      <td>0</td>\n",
       "      <td>1627934659</td>\n",
       "      <td>SOM</td>\n",
       "    </tr>\n",
       "    <tr>\n",
       "      <th>8403725</th>\n",
       "      <td>706</td>\n",
       "      <td>SOM34404</td>\n",
       "      <td>34404</td>\n",
       "      <td>30 July 2021</td>\n",
       "      <td>2021</td>\n",
       "      <td>1</td>\n",
       "      <td>Battles</td>\n",
       "      <td>Non-state actor overtakes territory</td>\n",
       "      <td>Al Shabaab</td>\n",
       "      <td>NaN</td>\n",
       "      <td>...</td>\n",
       "      <td>Daynuunay</td>\n",
       "      <td>3.0399</td>\n",
       "      <td>43.7969</td>\n",
       "      <td>1</td>\n",
       "      <td>Calamada</td>\n",
       "      <td>Subnational</td>\n",
       "      <td>On 30 July 2021, Al Shabaab militants attacked...</td>\n",
       "      <td>1</td>\n",
       "      <td>1627934658</td>\n",
       "      <td>SOM</td>\n",
       "    </tr>\n",
       "    <tr>\n",
       "      <th>8403994</th>\n",
       "      <td>148</td>\n",
       "      <td>CHA1310</td>\n",
       "      <td>1310</td>\n",
       "      <td>30 July 2021</td>\n",
       "      <td>2021</td>\n",
       "      <td>1</td>\n",
       "      <td>Protests</td>\n",
       "      <td>Excessive force against protesters</td>\n",
       "      <td>Protesters (Chad)</td>\n",
       "      <td>NaN</td>\n",
       "      <td>...</td>\n",
       "      <td>NDjamena</td>\n",
       "      <td>12.1085</td>\n",
       "      <td>15.0482</td>\n",
       "      <td>1</td>\n",
       "      <td>RFI</td>\n",
       "      <td>International</td>\n",
       "      <td>On 30 July 2021, the Mobile Intervention Unit ...</td>\n",
       "      <td>0</td>\n",
       "      <td>1627934659</td>\n",
       "      <td>TCD</td>\n",
       "    </tr>\n",
       "    <tr>\n",
       "      <th>8403499</th>\n",
       "      <td>854</td>\n",
       "      <td>BFO5097</td>\n",
       "      <td>5097</td>\n",
       "      <td>30 July 2021</td>\n",
       "      <td>2021</td>\n",
       "      <td>1</td>\n",
       "      <td>Violence against civilians</td>\n",
       "      <td>Attack</td>\n",
       "      <td>JNIM: Group for Support of Islam and Muslims</td>\n",
       "      <td>NaN</td>\n",
       "      <td>...</td>\n",
       "      <td>Tialboanga</td>\n",
       "      <td>12.3512</td>\n",
       "      <td>1.2778</td>\n",
       "      <td>1</td>\n",
       "      <td>Signal; Facebook</td>\n",
       "      <td>New media</td>\n",
       "      <td>On 30 July 2021, presumed JNIM militants made ...</td>\n",
       "      <td>0</td>\n",
       "      <td>1627934658</td>\n",
       "      <td>BFA</td>\n",
       "    </tr>\n",
       "    <tr>\n",
       "      <th>8404027</th>\n",
       "      <td>788</td>\n",
       "      <td>TUN8675</td>\n",
       "      <td>8675</td>\n",
       "      <td>30 July 2021</td>\n",
       "      <td>2021</td>\n",
       "      <td>1</td>\n",
       "      <td>Protests</td>\n",
       "      <td>Peaceful protest</td>\n",
       "      <td>Protesters (Tunisia)</td>\n",
       "      <td>NaN</td>\n",
       "      <td>...</td>\n",
       "      <td>Redeyef</td>\n",
       "      <td>34.3827</td>\n",
       "      <td>8.1555</td>\n",
       "      <td>1</td>\n",
       "      <td>Tunisie Numerique</td>\n",
       "      <td>National</td>\n",
       "      <td>On 30 July 2021, residents held a sit-in in Re...</td>\n",
       "      <td>0</td>\n",
       "      <td>1627934659</td>\n",
       "      <td>TUN</td>\n",
       "    </tr>\n",
       "  </tbody>\n",
       "</table>\n",
       "<p>5 rows × 30 columns</p>\n",
       "</div>"
      ],
      "text/plain": [
       "         iso event_id_cnty  event_id_no_cnty    event_date  year  \\\n",
       "data_id                                                            \n",
       "8403972  706      SOM34405             34405  30 July 2021  2021   \n",
       "8403725  706      SOM34404             34404  30 July 2021  2021   \n",
       "8403994  148       CHA1310              1310  30 July 2021  2021   \n",
       "8403499  854       BFO5097              5097  30 July 2021  2021   \n",
       "8404027  788       TUN8675              8675  30 July 2021  2021   \n",
       "\n",
       "         time_precision                  event_type  \\\n",
       "data_id                                               \n",
       "8403972               1                     Battles   \n",
       "8403725               1                     Battles   \n",
       "8403994               1                    Protests   \n",
       "8403499               1  Violence against civilians   \n",
       "8404027               1                    Protests   \n",
       "\n",
       "                              sub_event_type  \\\n",
       "data_id                                        \n",
       "8403972                          Armed clash   \n",
       "8403725  Non-state actor overtakes territory   \n",
       "8403994   Excessive force against protesters   \n",
       "8403499                               Attack   \n",
       "8404027                     Peaceful protest   \n",
       "\n",
       "                                               actor1 assoc_actor_1  ...  \\\n",
       "data_id                                                              ...   \n",
       "8403972                                    Al Shabaab           NaN  ...   \n",
       "8403725                                    Al Shabaab           NaN  ...   \n",
       "8403994                             Protesters (Chad)           NaN  ...   \n",
       "8403499  JNIM: Group for Support of Islam and Muslims           NaN  ...   \n",
       "8404027                          Protesters (Tunisia)           NaN  ...   \n",
       "\n",
       "           location latitude longitude  geo_precision             source  \\\n",
       "data_id                                                                    \n",
       "8403972    Diinsoor   2.4074   42.9766              1       Radio Risala   \n",
       "8403725   Daynuunay   3.0399   43.7969              1           Calamada   \n",
       "8403994    NDjamena  12.1085   15.0482              1                RFI   \n",
       "8403499  Tialboanga  12.3512    1.2778              1   Signal; Facebook   \n",
       "8404027     Redeyef  34.3827    8.1555              1  Tunisie Numerique   \n",
       "\n",
       "          source_scale                                              notes  \\\n",
       "data_id                                                                     \n",
       "8403972       National  On 30 July 2021, Al Shabaab militants carried ...   \n",
       "8403725    Subnational  On 30 July 2021, Al Shabaab militants attacked...   \n",
       "8403994  International  On 30 July 2021, the Mobile Intervention Unit ...   \n",
       "8403499      New media  On 30 July 2021, presumed JNIM militants made ...   \n",
       "8404027       National  On 30 July 2021, residents held a sit-in in Re...   \n",
       "\n",
       "        fatalities   timestamp iso3  \n",
       "data_id                              \n",
       "8403972          0  1627934659  SOM  \n",
       "8403725          1  1627934658  SOM  \n",
       "8403994          0  1627934659  TCD  \n",
       "8403499          0  1627934658  BFA  \n",
       "8404027          0  1627934659  TUN  \n",
       "\n",
       "[5 rows x 30 columns]"
      ]
     },
     "execution_count": 42,
     "metadata": {},
     "output_type": "execute_result"
    }
   ],
   "source": [
    "# top 5\n",
    "df.head(5)"
   ]
  },
  {
   "cell_type": "code",
   "execution_count": 43,
   "id": "318a1377",
   "metadata": {},
   "outputs": [
    {
     "data": {
      "text/html": [
       "<div>\n",
       "<style scoped>\n",
       "    .dataframe tbody tr th:only-of-type {\n",
       "        vertical-align: middle;\n",
       "    }\n",
       "\n",
       "    .dataframe tbody tr th {\n",
       "        vertical-align: top;\n",
       "    }\n",
       "\n",
       "    .dataframe thead th {\n",
       "        text-align: right;\n",
       "    }\n",
       "</style>\n",
       "<table border=\"1\" class=\"dataframe\">\n",
       "  <thead>\n",
       "    <tr style=\"text-align: right;\">\n",
       "      <th></th>\n",
       "      <th>iso</th>\n",
       "      <th>event_id_cnty</th>\n",
       "      <th>event_id_no_cnty</th>\n",
       "      <th>event_date</th>\n",
       "      <th>year</th>\n",
       "      <th>time_precision</th>\n",
       "      <th>event_type</th>\n",
       "      <th>sub_event_type</th>\n",
       "      <th>actor1</th>\n",
       "      <th>assoc_actor_1</th>\n",
       "      <th>...</th>\n",
       "      <th>location</th>\n",
       "      <th>latitude</th>\n",
       "      <th>longitude</th>\n",
       "      <th>geo_precision</th>\n",
       "      <th>source</th>\n",
       "      <th>source_scale</th>\n",
       "      <th>notes</th>\n",
       "      <th>fatalities</th>\n",
       "      <th>timestamp</th>\n",
       "      <th>iso3</th>\n",
       "    </tr>\n",
       "    <tr>\n",
       "      <th>data_id</th>\n",
       "      <th></th>\n",
       "      <th></th>\n",
       "      <th></th>\n",
       "      <th></th>\n",
       "      <th></th>\n",
       "      <th></th>\n",
       "      <th></th>\n",
       "      <th></th>\n",
       "      <th></th>\n",
       "      <th></th>\n",
       "      <th></th>\n",
       "      <th></th>\n",
       "      <th></th>\n",
       "      <th></th>\n",
       "      <th></th>\n",
       "      <th></th>\n",
       "      <th></th>\n",
       "      <th></th>\n",
       "      <th></th>\n",
       "      <th></th>\n",
       "      <th></th>\n",
       "    </tr>\n",
       "  </thead>\n",
       "  <tbody>\n",
       "    <tr>\n",
       "      <th>7580116</th>\n",
       "      <td>566</td>\n",
       "      <td>NIG12918</td>\n",
       "      <td>12918</td>\n",
       "      <td>30 July 2018</td>\n",
       "      <td>2018</td>\n",
       "      <td>1</td>\n",
       "      <td>Protests</td>\n",
       "      <td>Peaceful protest</td>\n",
       "      <td>Protesters (Nigeria)</td>\n",
       "      <td>TRTU: Tricycle Riders Transport Union</td>\n",
       "      <td>...</td>\n",
       "      <td>Maiduguri</td>\n",
       "      <td>11.8312</td>\n",
       "      <td>13.1517</td>\n",
       "      <td>1</td>\n",
       "      <td>Vanguard (Nigeria)</td>\n",
       "      <td>National</td>\n",
       "      <td>30 July. Tricycle operators under the aegis of...</td>\n",
       "      <td>0</td>\n",
       "      <td>1618566301</td>\n",
       "      <td>NGA</td>\n",
       "    </tr>\n",
       "    <tr>\n",
       "      <th>7999450</th>\n",
       "      <td>706</td>\n",
       "      <td>SOM26334</td>\n",
       "      <td>26334</td>\n",
       "      <td>30 July 2018</td>\n",
       "      <td>2018</td>\n",
       "      <td>1</td>\n",
       "      <td>Explosions/Remote violence</td>\n",
       "      <td>Grenade</td>\n",
       "      <td>Al Shabaab</td>\n",
       "      <td>NaN</td>\n",
       "      <td>...</td>\n",
       "      <td>Mogadishu - Hodan</td>\n",
       "      <td>2.0333</td>\n",
       "      <td>45.3500</td>\n",
       "      <td>1</td>\n",
       "      <td>Undisclosed Source</td>\n",
       "      <td>Local partner-Other</td>\n",
       "      <td>On 30 July, a grenade was thrown at Somali Nat...</td>\n",
       "      <td>0</td>\n",
       "      <td>1621903738</td>\n",
       "      <td>SOM</td>\n",
       "    </tr>\n",
       "    <tr>\n",
       "      <th>8380396</th>\n",
       "      <td>466</td>\n",
       "      <td>MLI2204</td>\n",
       "      <td>2204</td>\n",
       "      <td>30 July 2018</td>\n",
       "      <td>2018</td>\n",
       "      <td>1</td>\n",
       "      <td>Explosions/Remote violence</td>\n",
       "      <td>Remote explosive/landmine/IED</td>\n",
       "      <td>Ansar Dine</td>\n",
       "      <td>JNIM: Group for Support of Islam and Muslims</td>\n",
       "      <td>...</td>\n",
       "      <td>Kidal</td>\n",
       "      <td>18.4400</td>\n",
       "      <td>1.4100</td>\n",
       "      <td>2</td>\n",
       "      <td>Twitter</td>\n",
       "      <td>New media</td>\n",
       "      <td>On 30 July 2018, presumed Ansar Dine militant ...</td>\n",
       "      <td>0</td>\n",
       "      <td>1626129975</td>\n",
       "      <td>MLI</td>\n",
       "    </tr>\n",
       "    <tr>\n",
       "      <th>4618224</th>\n",
       "      <td>800</td>\n",
       "      <td>UGA5156</td>\n",
       "      <td>5156</td>\n",
       "      <td>30 July 2018</td>\n",
       "      <td>2018</td>\n",
       "      <td>1</td>\n",
       "      <td>Riots</td>\n",
       "      <td>Violent demonstration</td>\n",
       "      <td>Rioters (Uganda)</td>\n",
       "      <td>NaN</td>\n",
       "      <td>...</td>\n",
       "      <td>Kibingo</td>\n",
       "      <td>-0.5527</td>\n",
       "      <td>30.4159</td>\n",
       "      <td>2</td>\n",
       "      <td>Chimp Reports</td>\n",
       "      <td>National</td>\n",
       "      <td>On 30 July, members of a local NGO at a protes...</td>\n",
       "      <td>0</td>\n",
       "      <td>1618581946</td>\n",
       "      <td>UGA</td>\n",
       "    </tr>\n",
       "    <tr>\n",
       "      <th>5636345</th>\n",
       "      <td>706</td>\n",
       "      <td>SOM26333</td>\n",
       "      <td>26333</td>\n",
       "      <td>30 July 2018</td>\n",
       "      <td>2018</td>\n",
       "      <td>1</td>\n",
       "      <td>Explosions/Remote violence</td>\n",
       "      <td>Air/drone strike</td>\n",
       "      <td>Military Forces of Kenya (2013-)</td>\n",
       "      <td>NaN</td>\n",
       "      <td>...</td>\n",
       "      <td>Kibis</td>\n",
       "      <td>3.3314</td>\n",
       "      <td>41.9485</td>\n",
       "      <td>2</td>\n",
       "      <td>Intelligence Briefs; Mareeg News (Somalia)</td>\n",
       "      <td>Other-National</td>\n",
       "      <td>On 30 July, a Kenyan military warplane reporte...</td>\n",
       "      <td>19</td>\n",
       "      <td>1563903164</td>\n",
       "      <td>SOM</td>\n",
       "    </tr>\n",
       "  </tbody>\n",
       "</table>\n",
       "<p>5 rows × 30 columns</p>\n",
       "</div>"
      ],
      "text/plain": [
       "         iso event_id_cnty  event_id_no_cnty    event_date  year  \\\n",
       "data_id                                                            \n",
       "7580116  566      NIG12918             12918  30 July 2018  2018   \n",
       "7999450  706      SOM26334             26334  30 July 2018  2018   \n",
       "8380396  466       MLI2204              2204  30 July 2018  2018   \n",
       "4618224  800       UGA5156              5156  30 July 2018  2018   \n",
       "5636345  706      SOM26333             26333  30 July 2018  2018   \n",
       "\n",
       "         time_precision                  event_type  \\\n",
       "data_id                                               \n",
       "7580116               1                    Protests   \n",
       "7999450               1  Explosions/Remote violence   \n",
       "8380396               1  Explosions/Remote violence   \n",
       "4618224               1                       Riots   \n",
       "5636345               1  Explosions/Remote violence   \n",
       "\n",
       "                        sub_event_type                            actor1  \\\n",
       "data_id                                                                    \n",
       "7580116               Peaceful protest              Protesters (Nigeria)   \n",
       "7999450                        Grenade                        Al Shabaab   \n",
       "8380396  Remote explosive/landmine/IED                        Ansar Dine   \n",
       "4618224          Violent demonstration                  Rioters (Uganda)   \n",
       "5636345               Air/drone strike  Military Forces of Kenya (2013-)   \n",
       "\n",
       "                                        assoc_actor_1  ...           location  \\\n",
       "data_id                                                ...                      \n",
       "7580116         TRTU: Tricycle Riders Transport Union  ...          Maiduguri   \n",
       "7999450                                           NaN  ...  Mogadishu - Hodan   \n",
       "8380396  JNIM: Group for Support of Islam and Muslims  ...              Kidal   \n",
       "4618224                                           NaN  ...            Kibingo   \n",
       "5636345                                           NaN  ...              Kibis   \n",
       "\n",
       "        latitude longitude  geo_precision  \\\n",
       "data_id                                     \n",
       "7580116  11.8312   13.1517              1   \n",
       "7999450   2.0333   45.3500              1   \n",
       "8380396  18.4400    1.4100              2   \n",
       "4618224  -0.5527   30.4159              2   \n",
       "5636345   3.3314   41.9485              2   \n",
       "\n",
       "                                             source         source_scale  \\\n",
       "data_id                                                                    \n",
       "7580116                          Vanguard (Nigeria)             National   \n",
       "7999450                          Undisclosed Source  Local partner-Other   \n",
       "8380396                                     Twitter            New media   \n",
       "4618224                               Chimp Reports             National   \n",
       "5636345  Intelligence Briefs; Mareeg News (Somalia)       Other-National   \n",
       "\n",
       "                                                     notes fatalities  \\\n",
       "data_id                                                                 \n",
       "7580116  30 July. Tricycle operators under the aegis of...          0   \n",
       "7999450  On 30 July, a grenade was thrown at Somali Nat...          0   \n",
       "8380396  On 30 July 2018, presumed Ansar Dine militant ...          0   \n",
       "4618224  On 30 July, members of a local NGO at a protes...          0   \n",
       "5636345  On 30 July, a Kenyan military warplane reporte...         19   \n",
       "\n",
       "          timestamp iso3  \n",
       "data_id                   \n",
       "7580116  1618566301  NGA  \n",
       "7999450  1621903738  SOM  \n",
       "8380396  1626129975  MLI  \n",
       "4618224  1618581946  UGA  \n",
       "5636345  1563903164  SOM  \n",
       "\n",
       "[5 rows x 30 columns]"
      ]
     },
     "execution_count": 43,
     "metadata": {},
     "output_type": "execute_result"
    }
   ],
   "source": [
    "# bottom 5\n",
    "df.tail(5)"
   ]
  },
  {
   "cell_type": "code",
   "execution_count": 44,
   "id": "d79e4c1f",
   "metadata": {},
   "outputs": [],
   "source": [
    "# selecting columns that are needed for the project\n",
    "\n",
    "df_new = df[['event_type', 'notes']]"
   ]
  },
  {
   "cell_type": "code",
   "execution_count": 45,
   "id": "1e6a6366",
   "metadata": {},
   "outputs": [
    {
     "data": {
      "text/html": [
       "<div>\n",
       "<style scoped>\n",
       "    .dataframe tbody tr th:only-of-type {\n",
       "        vertical-align: middle;\n",
       "    }\n",
       "\n",
       "    .dataframe tbody tr th {\n",
       "        vertical-align: top;\n",
       "    }\n",
       "\n",
       "    .dataframe thead th {\n",
       "        text-align: right;\n",
       "    }\n",
       "</style>\n",
       "<table border=\"1\" class=\"dataframe\">\n",
       "  <thead>\n",
       "    <tr style=\"text-align: right;\">\n",
       "      <th></th>\n",
       "      <th>event_type</th>\n",
       "      <th>notes</th>\n",
       "    </tr>\n",
       "    <tr>\n",
       "      <th>data_id</th>\n",
       "      <th></th>\n",
       "      <th></th>\n",
       "    </tr>\n",
       "  </thead>\n",
       "  <tbody>\n",
       "    <tr>\n",
       "      <th>8403972</th>\n",
       "      <td>Battles</td>\n",
       "      <td>On 30 July 2021, Al Shabaab militants carried ...</td>\n",
       "    </tr>\n",
       "    <tr>\n",
       "      <th>8403725</th>\n",
       "      <td>Battles</td>\n",
       "      <td>On 30 July 2021, Al Shabaab militants attacked...</td>\n",
       "    </tr>\n",
       "    <tr>\n",
       "      <th>8403994</th>\n",
       "      <td>Protests</td>\n",
       "      <td>On 30 July 2021, the Mobile Intervention Unit ...</td>\n",
       "    </tr>\n",
       "    <tr>\n",
       "      <th>8403499</th>\n",
       "      <td>Violence against civilians</td>\n",
       "      <td>On 30 July 2021, presumed JNIM militants made ...</td>\n",
       "    </tr>\n",
       "    <tr>\n",
       "      <th>8404027</th>\n",
       "      <td>Protests</td>\n",
       "      <td>On 30 July 2021, residents held a sit-in in Re...</td>\n",
       "    </tr>\n",
       "    <tr>\n",
       "      <th>...</th>\n",
       "      <td>...</td>\n",
       "      <td>...</td>\n",
       "    </tr>\n",
       "    <tr>\n",
       "      <th>7580116</th>\n",
       "      <td>Protests</td>\n",
       "      <td>30 July. Tricycle operators under the aegis of...</td>\n",
       "    </tr>\n",
       "    <tr>\n",
       "      <th>7999450</th>\n",
       "      <td>Explosions/Remote violence</td>\n",
       "      <td>On 30 July, a grenade was thrown at Somali Nat...</td>\n",
       "    </tr>\n",
       "    <tr>\n",
       "      <th>8380396</th>\n",
       "      <td>Explosions/Remote violence</td>\n",
       "      <td>On 30 July 2018, presumed Ansar Dine militant ...</td>\n",
       "    </tr>\n",
       "    <tr>\n",
       "      <th>4618224</th>\n",
       "      <td>Riots</td>\n",
       "      <td>On 30 July, members of a local NGO at a protes...</td>\n",
       "    </tr>\n",
       "    <tr>\n",
       "      <th>5636345</th>\n",
       "      <td>Explosions/Remote violence</td>\n",
       "      <td>On 30 July, a Kenyan military warplane reporte...</td>\n",
       "    </tr>\n",
       "  </tbody>\n",
       "</table>\n",
       "<p>85200 rows × 2 columns</p>\n",
       "</div>"
      ],
      "text/plain": [
       "                         event_type  \\\n",
       "data_id                               \n",
       "8403972                     Battles   \n",
       "8403725                     Battles   \n",
       "8403994                    Protests   \n",
       "8403499  Violence against civilians   \n",
       "8404027                    Protests   \n",
       "...                             ...   \n",
       "7580116                    Protests   \n",
       "7999450  Explosions/Remote violence   \n",
       "8380396  Explosions/Remote violence   \n",
       "4618224                       Riots   \n",
       "5636345  Explosions/Remote violence   \n",
       "\n",
       "                                                     notes  \n",
       "data_id                                                     \n",
       "8403972  On 30 July 2021, Al Shabaab militants carried ...  \n",
       "8403725  On 30 July 2021, Al Shabaab militants attacked...  \n",
       "8403994  On 30 July 2021, the Mobile Intervention Unit ...  \n",
       "8403499  On 30 July 2021, presumed JNIM militants made ...  \n",
       "8404027  On 30 July 2021, residents held a sit-in in Re...  \n",
       "...                                                    ...  \n",
       "7580116  30 July. Tricycle operators under the aegis of...  \n",
       "7999450  On 30 July, a grenade was thrown at Somali Nat...  \n",
       "8380396  On 30 July 2018, presumed Ansar Dine militant ...  \n",
       "4618224  On 30 July, members of a local NGO at a protes...  \n",
       "5636345  On 30 July, a Kenyan military warplane reporte...  \n",
       "\n",
       "[85200 rows x 2 columns]"
      ]
     },
     "execution_count": 45,
     "metadata": {},
     "output_type": "execute_result"
    }
   ],
   "source": [
    "df_new"
   ]
  },
  {
   "cell_type": "code",
   "execution_count": 46,
   "id": "1b21f400",
   "metadata": {},
   "outputs": [
    {
     "data": {
      "text/plain": [
       "event_type\n",
       "Battles                       17808\n",
       "Explosions/Remote violence     5640\n",
       "Protests                      27498\n",
       "Riots                          9574\n",
       "Strategic developments         5192\n",
       "Violence against civilians    19488\n",
       "Name: notes, dtype: int64"
      ]
     },
     "execution_count": 46,
     "metadata": {},
     "output_type": "execute_result"
    }
   ],
   "source": [
    "# checking how many unique event types there are for each note\n",
    "\n",
    "df_new.groupby(['event_type'])['notes'].count()"
   ]
  },
  {
   "cell_type": "code",
   "execution_count": 47,
   "id": "1c6c0f18",
   "metadata": {},
   "outputs": [
    {
     "data": {
      "text/plain": [
       "83666"
      ]
     },
     "execution_count": 47,
     "metadata": {},
     "output_type": "execute_result"
    }
   ],
   "source": [
    "# checking if there is a multi-labeling concept\n",
    "len(df_new.notes.unique())\n"
   ]
  },
  {
   "cell_type": "code",
   "execution_count": 48,
   "id": "d93decc1",
   "metadata": {},
   "outputs": [
    {
     "data": {
      "text/plain": [
       "event_type                  notes                                                                                                                                                                                                                                                                                                                                                                                                                                                                               \n",
       "Protests                    From September 10 to October 9, in Mohandiseen, journalists at Tahrir Newspaper staged a sit-in protesting against a planned reduction in wages [size=no report].                                                                                                                                                                                                                                                                                                                       30\n",
       "                            On 22 February, 2019, tens of thousands of civilians across over 40 wilayas (states) in Algeria took to the streets in protest against president Bouteflika'a 5th mandate.                                                                                                                                                                                                                                                                                                              28\n",
       "                            On 11 July 2019, in response to the call of the Democratic Union for Justice under the Democratic Federation of Labour, court clerks held protests against their marginalization and exclusion from institutions of judicial governance in various cities including Tangier, Marrakech, Tetouan, Nador, El Jadida, Safi, Settat, Ourzazate, Errachidia, Fes, Meknes, Casablanca, Khouribga, Beni Mellal, Kenitra, Agadir, Al-Hoceima, Oujda, Taza, El Aioun, Rabat. [size=no report]    21\n",
       "Violence against civilians  14 February. Unidentified gunmen attacked 17 communities in Shioro and Rafi LGA. The villages attacked are: Kadaga, Wyam, Durumi, Kukoki, Jaja Hurga, Farin Kasa, Kwakwa, Hana Wanka, Malawi, Baduku, Ugo, Hana Wanka Tudu, Natsarira, Unguwan Dabaya, Karma, Kala, Ibu (approx. coordinates used for last 10 locations between Shioro and Rafi). 5 people died and 35 were kidnapped (fatalities spread across 17 events).                                                             17\n",
       "Protests                    On Nov 12, students took to the streets in a number of cities across Morocco to protest against the government's decision to stay on GMT 1 all year-round. Protests took place in Rabat, Sale, Casblanca, Mohammedia, Migen Taznit, El Kelaa des Sraghna, Temera, Sidi Suleiman, Taza, Zakoura, Azilal, Agadir, Ait Melloul, Khouribga, Driouch, Nador, Tangier and Meknes.                                                                                                             14\n",
       "                                                                                                                                                                                                                                                                                                                                                                                                                                                                                                                    ..\n",
       "Riots                       On 24 March 2021, students demonstrated in Adzope town (Me, Lagunes), calling for earlier Easter leave. They disrupted ongoing classes. Counter-demonstrations were reported. [size=no report]                                                                                                                                                                                                                                                                                           1\n",
       "                            On 24 March 2021, students demonstrated in Dakar city (Dakar Plateau, Dakar) to demand the release of two of their colleagues arrested during previous demonstrations. They erected barricades and clashed with the security forces (assumed Police Forces) who fired tear gas to disperse them. [size=no report]                                                                                                                                                                        1\n",
       "                            On 24 March 2021, students set tires and wood on fire at a university campus in Kwanokuthula, near Plettenberg Bay (Eden, Western Cape) in a demonstration over the late and non-payment of allowances by NSFAS. The group also demonstrated on the next day (coded separately). [size=no report]                                                                                                                                                                                        1\n",
       "                            On 24 March 2021, taxi drivers from the Qwaqwa Union Taxi Association attacked at least 2 private taxi drivers (condition not reported) and blocked the entrances and exist of Phuthaditjhaba (Thabo Mofutsanyana, Free State) in a demonstration against informal taxi drivers. The group were demanding their association to the organization to be able to operate in the region. The group also blocked the roads on the following day (coded separately). [size=no report]          1\n",
       "Battles                     'Near Agok Sector South, a security guard working for an INGO was shot by an unknown gunman from behind at Wunpeth town while off duty. He died at the hospital. The incident is being investigated by police with UNISFA assistance.'                                                                                                                                                                                                                                                   1\n",
       "Length: 83694, dtype: int64"
      ]
     },
     "execution_count": 48,
     "metadata": {},
     "output_type": "execute_result"
    }
   ],
   "source": [
    "df_new.value_counts()"
   ]
  },
  {
   "cell_type": "code",
   "execution_count": 49,
   "id": "ea2a211a",
   "metadata": {},
   "outputs": [],
   "source": [
    "# checking for duplicate notes\n",
    "duplicate_note = df_new[df_new.duplicated()]"
   ]
  },
  {
   "cell_type": "code",
   "execution_count": 50,
   "id": "bb33f8ed",
   "metadata": {},
   "outputs": [
    {
     "data": {
      "text/html": [
       "<div>\n",
       "<style scoped>\n",
       "    .dataframe tbody tr th:only-of-type {\n",
       "        vertical-align: middle;\n",
       "    }\n",
       "\n",
       "    .dataframe tbody tr th {\n",
       "        vertical-align: top;\n",
       "    }\n",
       "\n",
       "    .dataframe thead th {\n",
       "        text-align: right;\n",
       "    }\n",
       "</style>\n",
       "<table border=\"1\" class=\"dataframe\">\n",
       "  <thead>\n",
       "    <tr style=\"text-align: right;\">\n",
       "      <th></th>\n",
       "      <th>event_type</th>\n",
       "      <th>notes</th>\n",
       "    </tr>\n",
       "    <tr>\n",
       "      <th>data_id</th>\n",
       "      <th></th>\n",
       "      <th></th>\n",
       "    </tr>\n",
       "  </thead>\n",
       "  <tbody>\n",
       "    <tr>\n",
       "      <th>8394896</th>\n",
       "      <td>Violence against civilians</td>\n",
       "      <td>On 19 July 2021, unknown attackers entered the...</td>\n",
       "    </tr>\n",
       "    <tr>\n",
       "      <th>8394897</th>\n",
       "      <td>Violence against civilians</td>\n",
       "      <td>On 19 July 2021, unknown attackers entered the...</td>\n",
       "    </tr>\n",
       "    <tr>\n",
       "      <th>8394898</th>\n",
       "      <td>Violence against civilians</td>\n",
       "      <td>On 19 July 2021, unknown attackers entered the...</td>\n",
       "    </tr>\n",
       "    <tr>\n",
       "      <th>8394899</th>\n",
       "      <td>Violence against civilians</td>\n",
       "      <td>On 19 July 2021, unknown attackers entered the...</td>\n",
       "    </tr>\n",
       "    <tr>\n",
       "      <th>8394901</th>\n",
       "      <td>Violence against civilians</td>\n",
       "      <td>On 19 July 2021, unknown attackers entered the...</td>\n",
       "    </tr>\n",
       "    <tr>\n",
       "      <th>...</th>\n",
       "      <td>...</td>\n",
       "      <td>...</td>\n",
       "    </tr>\n",
       "    <tr>\n",
       "      <th>7919462</th>\n",
       "      <td>Violence against civilians</td>\n",
       "      <td>On 2 Aug 2018, unidentified gunmen raided the ...</td>\n",
       "    </tr>\n",
       "    <tr>\n",
       "      <th>5286660</th>\n",
       "      <td>Violence against civilians</td>\n",
       "      <td>1-14 August. 38 pro-Biafria agitators were kil...</td>\n",
       "    </tr>\n",
       "    <tr>\n",
       "      <th>8026794</th>\n",
       "      <td>Battles</td>\n",
       "      <td>At an unknown date before October 2018 (coded ...</td>\n",
       "    </tr>\n",
       "    <tr>\n",
       "      <th>7273459</th>\n",
       "      <td>Battles</td>\n",
       "      <td>In the days leading up to August 5th, Egyptian...</td>\n",
       "    </tr>\n",
       "    <tr>\n",
       "      <th>5240504</th>\n",
       "      <td>Protests</td>\n",
       "      <td>23 July-16 August: four weeks of protests by S...</td>\n",
       "    </tr>\n",
       "  </tbody>\n",
       "</table>\n",
       "<p>1506 rows × 2 columns</p>\n",
       "</div>"
      ],
      "text/plain": [
       "                         event_type  \\\n",
       "data_id                               \n",
       "8394896  Violence against civilians   \n",
       "8394897  Violence against civilians   \n",
       "8394898  Violence against civilians   \n",
       "8394899  Violence against civilians   \n",
       "8394901  Violence against civilians   \n",
       "...                             ...   \n",
       "7919462  Violence against civilians   \n",
       "5286660  Violence against civilians   \n",
       "8026794                     Battles   \n",
       "7273459                     Battles   \n",
       "5240504                    Protests   \n",
       "\n",
       "                                                     notes  \n",
       "data_id                                                     \n",
       "8394896  On 19 July 2021, unknown attackers entered the...  \n",
       "8394897  On 19 July 2021, unknown attackers entered the...  \n",
       "8394898  On 19 July 2021, unknown attackers entered the...  \n",
       "8394899  On 19 July 2021, unknown attackers entered the...  \n",
       "8394901  On 19 July 2021, unknown attackers entered the...  \n",
       "...                                                    ...  \n",
       "7919462  On 2 Aug 2018, unidentified gunmen raided the ...  \n",
       "5286660  1-14 August. 38 pro-Biafria agitators were kil...  \n",
       "8026794  At an unknown date before October 2018 (coded ...  \n",
       "7273459  In the days leading up to August 5th, Egyptian...  \n",
       "5240504  23 July-16 August: four weeks of protests by S...  \n",
       "\n",
       "[1506 rows x 2 columns]"
      ]
     },
     "execution_count": 50,
     "metadata": {},
     "output_type": "execute_result"
    }
   ],
   "source": [
    "duplicate_note"
   ]
  },
  {
   "cell_type": "code",
   "execution_count": 51,
   "id": "893b8094",
   "metadata": {},
   "outputs": [
    {
     "name": "stderr",
     "output_type": "stream",
     "text": [
      "C:\\Users\\ntsegie\\Anaconda3\\lib\\site-packages\\ipykernel_launcher.py:3: SettingWithCopyWarning: \n",
      "A value is trying to be set on a copy of a slice from a DataFrame\n",
      "\n",
      "See the caveats in the documentation: https://pandas.pydata.org/pandas-docs/stable/user_guide/indexing.html#returning-a-view-versus-a-copy\n",
      "  This is separate from the ipykernel package so we can avoid doing imports until\n"
     ]
    }
   ],
   "source": [
    "# droping duplicates\n",
    "\n",
    "df_new.drop_duplicates(keep='first', inplace=True)"
   ]
  },
  {
   "cell_type": "code",
   "execution_count": 52,
   "id": "a71588e4",
   "metadata": {},
   "outputs": [],
   "source": [
    "# saving the new df as csv\n",
    "df_new.to_csv(r'C:\\Users\\ntsegie\\Documents\\Datascience\\Class_Files\\ACLED\\ACLED\\CSV_Main\\Africa_3years_clean_dataset.csv')"
   ]
  },
  {
   "cell_type": "markdown",
   "id": "8ae1b91f",
   "metadata": {},
   "source": [
    "# Data Wrangling and Preprocessing"
   ]
  },
  {
   "cell_type": "code",
   "execution_count": 53,
   "id": "6ca8c031",
   "metadata": {},
   "outputs": [],
   "source": [
    "import nltk\n",
    "import re\n",
    "from string import digits\n",
    "from nltk.corpus import stopwords\n",
    "from sklearn.feature_extraction.text import CountVectorizer\n",
    "from sklearn.feature_extraction.text import TfidfVectorizer\n",
    "from nltk.stem import PorterStemmer\n",
    "from nltk.tokenize import RegexpTokenizer\n",
    "from nltk.stem import WordNetLemmatizer\n",
    "ps = PorterStemmer()"
   ]
  },
  {
   "cell_type": "code",
   "execution_count": 54,
   "id": "f3bff816",
   "metadata": {},
   "outputs": [],
   "source": [
    "path = r'C:\\Users\\ntsegie\\Documents\\Datascience\\Class_Files\\ACLED\\ACLED\\CSV_Main\\Africa_3years_clean_dataset.csv'\n",
    "df = pd.read_csv(path, index_col=0)"
   ]
  },
  {
   "cell_type": "code",
   "execution_count": 55,
   "id": "637e8f50",
   "metadata": {},
   "outputs": [
    {
     "data": {
      "text/html": [
       "<div>\n",
       "<style scoped>\n",
       "    .dataframe tbody tr th:only-of-type {\n",
       "        vertical-align: middle;\n",
       "    }\n",
       "\n",
       "    .dataframe tbody tr th {\n",
       "        vertical-align: top;\n",
       "    }\n",
       "\n",
       "    .dataframe thead th {\n",
       "        text-align: right;\n",
       "    }\n",
       "</style>\n",
       "<table border=\"1\" class=\"dataframe\">\n",
       "  <thead>\n",
       "    <tr style=\"text-align: right;\">\n",
       "      <th></th>\n",
       "      <th>event_type</th>\n",
       "      <th>notes</th>\n",
       "    </tr>\n",
       "    <tr>\n",
       "      <th>data_id</th>\n",
       "      <th></th>\n",
       "      <th></th>\n",
       "    </tr>\n",
       "  </thead>\n",
       "  <tbody>\n",
       "    <tr>\n",
       "      <th>8403972</th>\n",
       "      <td>Battles</td>\n",
       "      <td>On 30 July 2021, Al Shabaab militants carried ...</td>\n",
       "    </tr>\n",
       "    <tr>\n",
       "      <th>8403725</th>\n",
       "      <td>Battles</td>\n",
       "      <td>On 30 July 2021, Al Shabaab militants attacked...</td>\n",
       "    </tr>\n",
       "    <tr>\n",
       "      <th>8403994</th>\n",
       "      <td>Protests</td>\n",
       "      <td>On 30 July 2021, the Mobile Intervention Unit ...</td>\n",
       "    </tr>\n",
       "    <tr>\n",
       "      <th>8403499</th>\n",
       "      <td>Violence against civilians</td>\n",
       "      <td>On 30 July 2021, presumed JNIM militants made ...</td>\n",
       "    </tr>\n",
       "    <tr>\n",
       "      <th>8404027</th>\n",
       "      <td>Protests</td>\n",
       "      <td>On 30 July 2021, residents held a sit-in in Re...</td>\n",
       "    </tr>\n",
       "    <tr>\n",
       "      <th>...</th>\n",
       "      <td>...</td>\n",
       "      <td>...</td>\n",
       "    </tr>\n",
       "    <tr>\n",
       "      <th>7580116</th>\n",
       "      <td>Protests</td>\n",
       "      <td>30 July. Tricycle operators under the aegis of...</td>\n",
       "    </tr>\n",
       "    <tr>\n",
       "      <th>7999450</th>\n",
       "      <td>Explosions/Remote violence</td>\n",
       "      <td>On 30 July, a grenade was thrown at Somali Nat...</td>\n",
       "    </tr>\n",
       "    <tr>\n",
       "      <th>8380396</th>\n",
       "      <td>Explosions/Remote violence</td>\n",
       "      <td>On 30 July 2018, presumed Ansar Dine militant ...</td>\n",
       "    </tr>\n",
       "    <tr>\n",
       "      <th>4618224</th>\n",
       "      <td>Riots</td>\n",
       "      <td>On 30 July, members of a local NGO at a protes...</td>\n",
       "    </tr>\n",
       "    <tr>\n",
       "      <th>5636345</th>\n",
       "      <td>Explosions/Remote violence</td>\n",
       "      <td>On 30 July, a Kenyan military warplane reporte...</td>\n",
       "    </tr>\n",
       "  </tbody>\n",
       "</table>\n",
       "<p>83694 rows × 2 columns</p>\n",
       "</div>"
      ],
      "text/plain": [
       "                         event_type  \\\n",
       "data_id                               \n",
       "8403972                     Battles   \n",
       "8403725                     Battles   \n",
       "8403994                    Protests   \n",
       "8403499  Violence against civilians   \n",
       "8404027                    Protests   \n",
       "...                             ...   \n",
       "7580116                    Protests   \n",
       "7999450  Explosions/Remote violence   \n",
       "8380396  Explosions/Remote violence   \n",
       "4618224                       Riots   \n",
       "5636345  Explosions/Remote violence   \n",
       "\n",
       "                                                     notes  \n",
       "data_id                                                     \n",
       "8403972  On 30 July 2021, Al Shabaab militants carried ...  \n",
       "8403725  On 30 July 2021, Al Shabaab militants attacked...  \n",
       "8403994  On 30 July 2021, the Mobile Intervention Unit ...  \n",
       "8403499  On 30 July 2021, presumed JNIM militants made ...  \n",
       "8404027  On 30 July 2021, residents held a sit-in in Re...  \n",
       "...                                                    ...  \n",
       "7580116  30 July. Tricycle operators under the aegis of...  \n",
       "7999450  On 30 July, a grenade was thrown at Somali Nat...  \n",
       "8380396  On 30 July 2018, presumed Ansar Dine militant ...  \n",
       "4618224  On 30 July, members of a local NGO at a protes...  \n",
       "5636345  On 30 July, a Kenyan military warplane reporte...  \n",
       "\n",
       "[83694 rows x 2 columns]"
      ]
     },
     "execution_count": 55,
     "metadata": {},
     "output_type": "execute_result"
    }
   ],
   "source": [
    "df"
   ]
  },
  {
   "cell_type": "code",
   "execution_count": 56,
   "id": "e25e7a9b",
   "metadata": {},
   "outputs": [
    {
     "data": {
      "text/plain": [
       "(83694, 2)"
      ]
     },
     "execution_count": 56,
     "metadata": {},
     "output_type": "execute_result"
    }
   ],
   "source": [
    "# Total number of rows and columns\n",
    "df.shape\n"
   ]
  },
  {
   "cell_type": "code",
   "execution_count": 57,
   "id": "f23f83ef",
   "metadata": {},
   "outputs": [
    {
     "name": "stdout",
     "output_type": "stream",
     "text": [
      "event_type    0\n",
      "notes         0\n",
      "dtype: int64\n"
     ]
    }
   ],
   "source": [
    "# checking if there are null values\n",
    "\n",
    "print(df.isnull().sum())"
   ]
  },
  {
   "cell_type": "code",
   "execution_count": 58,
   "id": "2a4b3131",
   "metadata": {},
   "outputs": [],
   "source": [
    "#converting text to lower case\n",
    "df['notes'] = df['notes'].str.lower()"
   ]
  },
  {
   "cell_type": "code",
   "execution_count": 59,
   "id": "88acc905",
   "metadata": {},
   "outputs": [
    {
     "name": "stdout",
     "output_type": "stream",
     "text": [
      "on 30 july 2021, al shabaab militants carried out a hit and run attack against government police forces (swpsf) in diinsoor town (diinsoor, bay). two civilian bystanders were injured.\n"
     ]
    }
   ],
   "source": [
    "example_notes = df.iloc[0]\n",
    "print(example_notes['notes'])"
   ]
  },
  {
   "cell_type": "code",
   "execution_count": 60,
   "id": "4af9a560",
   "metadata": {},
   "outputs": [],
   "source": [
    "#word tokenizing\n",
    "\n",
    "def identify_tokens(row):\n",
    "    notes = row['notes']\n",
    "    tokens = nltk.word_tokenize(notes)\n",
    "    # taking only words (not punctuation)\n",
    "    token_words = [w for w in tokens if w.isalpha()]\n",
    "    return token_words\n",
    "\n",
    "df['token_words'] = df.apply(identify_tokens, axis=1)\n"
   ]
  },
  {
   "cell_type": "code",
   "execution_count": 61,
   "id": "4579def9",
   "metadata": {},
   "outputs": [
    {
     "data": {
      "text/html": [
       "<div>\n",
       "<style scoped>\n",
       "    .dataframe tbody tr th:only-of-type {\n",
       "        vertical-align: middle;\n",
       "    }\n",
       "\n",
       "    .dataframe tbody tr th {\n",
       "        vertical-align: top;\n",
       "    }\n",
       "\n",
       "    .dataframe thead th {\n",
       "        text-align: right;\n",
       "    }\n",
       "</style>\n",
       "<table border=\"1\" class=\"dataframe\">\n",
       "  <thead>\n",
       "    <tr style=\"text-align: right;\">\n",
       "      <th></th>\n",
       "      <th>event_type</th>\n",
       "      <th>notes</th>\n",
       "      <th>token_words</th>\n",
       "    </tr>\n",
       "    <tr>\n",
       "      <th>data_id</th>\n",
       "      <th></th>\n",
       "      <th></th>\n",
       "      <th></th>\n",
       "    </tr>\n",
       "  </thead>\n",
       "  <tbody>\n",
       "    <tr>\n",
       "      <th>8403972</th>\n",
       "      <td>Battles</td>\n",
       "      <td>on 30 july 2021, al shabaab militants carried ...</td>\n",
       "      <td>[on, july, al, shabaab, militants, carried, ou...</td>\n",
       "    </tr>\n",
       "    <tr>\n",
       "      <th>8403725</th>\n",
       "      <td>Battles</td>\n",
       "      <td>on 30 july 2021, al shabaab militants attacked...</td>\n",
       "      <td>[on, july, al, shabaab, militants, attacked, g...</td>\n",
       "    </tr>\n",
       "    <tr>\n",
       "      <th>8403994</th>\n",
       "      <td>Protests</td>\n",
       "      <td>on 30 july 2021, the mobile intervention unit ...</td>\n",
       "      <td>[on, july, the, mobile, intervention, unit, us...</td>\n",
       "    </tr>\n",
       "    <tr>\n",
       "      <th>8403499</th>\n",
       "      <td>Violence against civilians</td>\n",
       "      <td>on 30 july 2021, presumed jnim militants made ...</td>\n",
       "      <td>[on, july, presumed, jnim, militants, made, an...</td>\n",
       "    </tr>\n",
       "    <tr>\n",
       "      <th>8404027</th>\n",
       "      <td>Protests</td>\n",
       "      <td>on 30 july 2021, residents held a sit-in in re...</td>\n",
       "      <td>[on, july, residents, held, a, in, redeyef, re...</td>\n",
       "    </tr>\n",
       "  </tbody>\n",
       "</table>\n",
       "</div>"
      ],
      "text/plain": [
       "                         event_type  \\\n",
       "data_id                               \n",
       "8403972                     Battles   \n",
       "8403725                     Battles   \n",
       "8403994                    Protests   \n",
       "8403499  Violence against civilians   \n",
       "8404027                    Protests   \n",
       "\n",
       "                                                     notes  \\\n",
       "data_id                                                      \n",
       "8403972  on 30 july 2021, al shabaab militants carried ...   \n",
       "8403725  on 30 july 2021, al shabaab militants attacked...   \n",
       "8403994  on 30 july 2021, the mobile intervention unit ...   \n",
       "8403499  on 30 july 2021, presumed jnim militants made ...   \n",
       "8404027  on 30 july 2021, residents held a sit-in in re...   \n",
       "\n",
       "                                               token_words  \n",
       "data_id                                                     \n",
       "8403972  [on, july, al, shabaab, militants, carried, ou...  \n",
       "8403725  [on, july, al, shabaab, militants, attacked, g...  \n",
       "8403994  [on, july, the, mobile, intervention, unit, us...  \n",
       "8403499  [on, july, presumed, jnim, militants, made, an...  \n",
       "8404027  [on, july, residents, held, a, in, redeyef, re...  "
      ]
     },
     "execution_count": 61,
     "metadata": {},
     "output_type": "execute_result"
    }
   ],
   "source": [
    "df.head(5)"
   ]
  },
  {
   "cell_type": "code",
   "execution_count": 62,
   "id": "1fe5773f",
   "metadata": {},
   "outputs": [],
   "source": [
    "lemmatizer = WordNetLemmatizer()\n",
    "\n",
    "def word_lemmatizer(text):\n",
    "    lem_text = [lemmatizer.lemmatize(i) for i in text]\n",
    "    return lem_text"
   ]
  },
  {
   "cell_type": "code",
   "execution_count": 63,
   "id": "5dc7e6d5",
   "metadata": {},
   "outputs": [
    {
     "data": {
      "text/html": [
       "<div>\n",
       "<style scoped>\n",
       "    .dataframe tbody tr th:only-of-type {\n",
       "        vertical-align: middle;\n",
       "    }\n",
       "\n",
       "    .dataframe tbody tr th {\n",
       "        vertical-align: top;\n",
       "    }\n",
       "\n",
       "    .dataframe thead th {\n",
       "        text-align: right;\n",
       "    }\n",
       "</style>\n",
       "<table border=\"1\" class=\"dataframe\">\n",
       "  <thead>\n",
       "    <tr style=\"text-align: right;\">\n",
       "      <th></th>\n",
       "      <th>event_type</th>\n",
       "      <th>notes</th>\n",
       "      <th>token_words</th>\n",
       "      <th>clean_notes</th>\n",
       "    </tr>\n",
       "    <tr>\n",
       "      <th>data_id</th>\n",
       "      <th></th>\n",
       "      <th></th>\n",
       "      <th></th>\n",
       "      <th></th>\n",
       "    </tr>\n",
       "  </thead>\n",
       "  <tbody>\n",
       "    <tr>\n",
       "      <th>8403972</th>\n",
       "      <td>Battles</td>\n",
       "      <td>on 30 july 2021, al shabaab militants carried ...</td>\n",
       "      <td>[on, july, al, shabaab, militants, carried, ou...</td>\n",
       "      <td>[on, july, al, shabaab, militant, carried, out...</td>\n",
       "    </tr>\n",
       "    <tr>\n",
       "      <th>8403725</th>\n",
       "      <td>Battles</td>\n",
       "      <td>on 30 july 2021, al shabaab militants attacked...</td>\n",
       "      <td>[on, july, al, shabaab, militants, attacked, g...</td>\n",
       "      <td>[on, july, al, shabaab, militant, attacked, go...</td>\n",
       "    </tr>\n",
       "    <tr>\n",
       "      <th>8403994</th>\n",
       "      <td>Protests</td>\n",
       "      <td>on 30 july 2021, the mobile intervention unit ...</td>\n",
       "      <td>[on, july, the, mobile, intervention, unit, us...</td>\n",
       "      <td>[on, july, the, mobile, intervention, unit, us...</td>\n",
       "    </tr>\n",
       "    <tr>\n",
       "      <th>8403499</th>\n",
       "      <td>Violence against civilians</td>\n",
       "      <td>on 30 july 2021, presumed jnim militants made ...</td>\n",
       "      <td>[on, july, presumed, jnim, militants, made, an...</td>\n",
       "      <td>[on, july, presumed, jnim, militant, made, an,...</td>\n",
       "    </tr>\n",
       "    <tr>\n",
       "      <th>8404027</th>\n",
       "      <td>Protests</td>\n",
       "      <td>on 30 july 2021, residents held a sit-in in re...</td>\n",
       "      <td>[on, july, residents, held, a, in, redeyef, re...</td>\n",
       "      <td>[on, july, resident, held, a, in, redeyef, red...</td>\n",
       "    </tr>\n",
       "    <tr>\n",
       "      <th>...</th>\n",
       "      <td>...</td>\n",
       "      <td>...</td>\n",
       "      <td>...</td>\n",
       "      <td>...</td>\n",
       "    </tr>\n",
       "    <tr>\n",
       "      <th>7580116</th>\n",
       "      <td>Protests</td>\n",
       "      <td>30 july. tricycle operators under the aegis of...</td>\n",
       "      <td>[july, tricycle, operators, under, the, aegis,...</td>\n",
       "      <td>[july, tricycle, operator, under, the, aegis, ...</td>\n",
       "    </tr>\n",
       "    <tr>\n",
       "      <th>7999450</th>\n",
       "      <td>Explosions/Remote violence</td>\n",
       "      <td>on 30 july, a grenade was thrown at somali nat...</td>\n",
       "      <td>[on, july, a, grenade, was, thrown, at, somali...</td>\n",
       "      <td>[on, july, a, grenade, wa, thrown, at, somali,...</td>\n",
       "    </tr>\n",
       "    <tr>\n",
       "      <th>8380396</th>\n",
       "      <td>Explosions/Remote violence</td>\n",
       "      <td>on 30 july 2018, presumed ansar dine militant ...</td>\n",
       "      <td>[on, july, presumed, ansar, dine, militant, de...</td>\n",
       "      <td>[on, july, presumed, ansar, dine, militant, de...</td>\n",
       "    </tr>\n",
       "    <tr>\n",
       "      <th>4618224</th>\n",
       "      <td>Riots</td>\n",
       "      <td>on 30 july, members of a local ngo at a protes...</td>\n",
       "      <td>[on, july, members, of, a, local, ngo, at, a, ...</td>\n",
       "      <td>[on, july, member, of, a, local, ngo, at, a, p...</td>\n",
       "    </tr>\n",
       "    <tr>\n",
       "      <th>5636345</th>\n",
       "      <td>Explosions/Remote violence</td>\n",
       "      <td>on 30 july, a kenyan military warplane reporte...</td>\n",
       "      <td>[on, july, a, kenyan, military, warplane, repo...</td>\n",
       "      <td>[on, july, a, kenyan, military, warplane, repo...</td>\n",
       "    </tr>\n",
       "  </tbody>\n",
       "</table>\n",
       "<p>83694 rows × 4 columns</p>\n",
       "</div>"
      ],
      "text/plain": [
       "                         event_type  \\\n",
       "data_id                               \n",
       "8403972                     Battles   \n",
       "8403725                     Battles   \n",
       "8403994                    Protests   \n",
       "8403499  Violence against civilians   \n",
       "8404027                    Protests   \n",
       "...                             ...   \n",
       "7580116                    Protests   \n",
       "7999450  Explosions/Remote violence   \n",
       "8380396  Explosions/Remote violence   \n",
       "4618224                       Riots   \n",
       "5636345  Explosions/Remote violence   \n",
       "\n",
       "                                                     notes  \\\n",
       "data_id                                                      \n",
       "8403972  on 30 july 2021, al shabaab militants carried ...   \n",
       "8403725  on 30 july 2021, al shabaab militants attacked...   \n",
       "8403994  on 30 july 2021, the mobile intervention unit ...   \n",
       "8403499  on 30 july 2021, presumed jnim militants made ...   \n",
       "8404027  on 30 july 2021, residents held a sit-in in re...   \n",
       "...                                                    ...   \n",
       "7580116  30 july. tricycle operators under the aegis of...   \n",
       "7999450  on 30 july, a grenade was thrown at somali nat...   \n",
       "8380396  on 30 july 2018, presumed ansar dine militant ...   \n",
       "4618224  on 30 july, members of a local ngo at a protes...   \n",
       "5636345  on 30 july, a kenyan military warplane reporte...   \n",
       "\n",
       "                                               token_words  \\\n",
       "data_id                                                      \n",
       "8403972  [on, july, al, shabaab, militants, carried, ou...   \n",
       "8403725  [on, july, al, shabaab, militants, attacked, g...   \n",
       "8403994  [on, july, the, mobile, intervention, unit, us...   \n",
       "8403499  [on, july, presumed, jnim, militants, made, an...   \n",
       "8404027  [on, july, residents, held, a, in, redeyef, re...   \n",
       "...                                                    ...   \n",
       "7580116  [july, tricycle, operators, under, the, aegis,...   \n",
       "7999450  [on, july, a, grenade, was, thrown, at, somali...   \n",
       "8380396  [on, july, presumed, ansar, dine, militant, de...   \n",
       "4618224  [on, july, members, of, a, local, ngo, at, a, ...   \n",
       "5636345  [on, july, a, kenyan, military, warplane, repo...   \n",
       "\n",
       "                                               clean_notes  \n",
       "data_id                                                     \n",
       "8403972  [on, july, al, shabaab, militant, carried, out...  \n",
       "8403725  [on, july, al, shabaab, militant, attacked, go...  \n",
       "8403994  [on, july, the, mobile, intervention, unit, us...  \n",
       "8403499  [on, july, presumed, jnim, militant, made, an,...  \n",
       "8404027  [on, july, resident, held, a, in, redeyef, red...  \n",
       "...                                                    ...  \n",
       "7580116  [july, tricycle, operator, under, the, aegis, ...  \n",
       "7999450  [on, july, a, grenade, wa, thrown, at, somali,...  \n",
       "8380396  [on, july, presumed, ansar, dine, militant, de...  \n",
       "4618224  [on, july, member, of, a, local, ngo, at, a, p...  \n",
       "5636345  [on, july, a, kenyan, military, warplane, repo...  \n",
       "\n",
       "[83694 rows x 4 columns]"
      ]
     },
     "execution_count": 63,
     "metadata": {},
     "output_type": "execute_result"
    }
   ],
   "source": [
    "df[\"clean_notes\"] = df[\"token_words\"].apply(lambda x: word_lemmatizer(x))\n",
    "df"
   ]
  },
  {
   "cell_type": "code",
   "execution_count": 64,
   "id": "248f872b",
   "metadata": {},
   "outputs": [],
   "source": [
    "def remove_stopwords(text):\n",
    "    words = [w for w in text if w not in stopwords.words('english')]\n",
    "    return words"
   ]
  },
  {
   "cell_type": "code",
   "execution_count": 65,
   "id": "a29e89e5",
   "metadata": {},
   "outputs": [
    {
     "ename": "KeyboardInterrupt",
     "evalue": "",
     "output_type": "error",
     "traceback": [
      "\u001b[1;31m---------------------------------------------------------------------------\u001b[0m",
      "\u001b[1;31mKeyboardInterrupt\u001b[0m                         Traceback (most recent call last)",
      "\u001b[1;32m<ipython-input-65-294a91b2c2b2>\u001b[0m in \u001b[0;36m<module>\u001b[1;34m\u001b[0m\n\u001b[1;32m----> 1\u001b[1;33m \u001b[0mdf\u001b[0m\u001b[1;33m[\u001b[0m\u001b[1;34m\"new_notes\"\u001b[0m\u001b[1;33m]\u001b[0m \u001b[1;33m=\u001b[0m \u001b[0mdf\u001b[0m\u001b[1;33m[\u001b[0m\u001b[1;34m\"clean_notes\"\u001b[0m\u001b[1;33m]\u001b[0m\u001b[1;33m.\u001b[0m\u001b[0mapply\u001b[0m\u001b[1;33m(\u001b[0m\u001b[1;32mlambda\u001b[0m \u001b[0mx\u001b[0m\u001b[1;33m:\u001b[0m \u001b[0mremove_stopwords\u001b[0m\u001b[1;33m(\u001b[0m\u001b[0mx\u001b[0m\u001b[1;33m)\u001b[0m\u001b[1;33m)\u001b[0m\u001b[1;33m\u001b[0m\u001b[0m\n\u001b[0m",
      "\u001b[1;32m~\\Anaconda3\\lib\\site-packages\\pandas\\core\\series.py\u001b[0m in \u001b[0;36mapply\u001b[1;34m(self, func, convert_dtype, args, **kwds)\u001b[0m\n\u001b[0;32m   4210\u001b[0m             \u001b[1;32melse\u001b[0m\u001b[1;33m:\u001b[0m\u001b[1;33m\u001b[0m\u001b[0m\n\u001b[0;32m   4211\u001b[0m                 \u001b[0mvalues\u001b[0m \u001b[1;33m=\u001b[0m \u001b[0mself\u001b[0m\u001b[1;33m.\u001b[0m\u001b[0mastype\u001b[0m\u001b[1;33m(\u001b[0m\u001b[0mobject\u001b[0m\u001b[1;33m)\u001b[0m\u001b[1;33m.\u001b[0m\u001b[0m_values\u001b[0m\u001b[1;33m\u001b[0m\u001b[0m\n\u001b[1;32m-> 4212\u001b[1;33m                 \u001b[0mmapped\u001b[0m \u001b[1;33m=\u001b[0m \u001b[0mlib\u001b[0m\u001b[1;33m.\u001b[0m\u001b[0mmap_infer\u001b[0m\u001b[1;33m(\u001b[0m\u001b[0mvalues\u001b[0m\u001b[1;33m,\u001b[0m \u001b[0mf\u001b[0m\u001b[1;33m,\u001b[0m \u001b[0mconvert\u001b[0m\u001b[1;33m=\u001b[0m\u001b[0mconvert_dtype\u001b[0m\u001b[1;33m)\u001b[0m\u001b[1;33m\u001b[0m\u001b[0m\n\u001b[0m\u001b[0;32m   4213\u001b[0m \u001b[1;33m\u001b[0m\u001b[0m\n\u001b[0;32m   4214\u001b[0m         \u001b[1;32mif\u001b[0m \u001b[0mlen\u001b[0m\u001b[1;33m(\u001b[0m\u001b[0mmapped\u001b[0m\u001b[1;33m)\u001b[0m \u001b[1;32mand\u001b[0m \u001b[0misinstance\u001b[0m\u001b[1;33m(\u001b[0m\u001b[0mmapped\u001b[0m\u001b[1;33m[\u001b[0m\u001b[1;36m0\u001b[0m\u001b[1;33m]\u001b[0m\u001b[1;33m,\u001b[0m \u001b[0mSeries\u001b[0m\u001b[1;33m)\u001b[0m\u001b[1;33m:\u001b[0m\u001b[1;33m\u001b[0m\u001b[0m\n",
      "\u001b[1;32mpandas\\_libs\\lib.pyx\u001b[0m in \u001b[0;36mpandas._libs.lib.map_infer\u001b[1;34m()\u001b[0m\n",
      "\u001b[1;32m<ipython-input-65-294a91b2c2b2>\u001b[0m in \u001b[0;36m<lambda>\u001b[1;34m(x)\u001b[0m\n\u001b[1;32m----> 1\u001b[1;33m \u001b[0mdf\u001b[0m\u001b[1;33m[\u001b[0m\u001b[1;34m\"new_notes\"\u001b[0m\u001b[1;33m]\u001b[0m \u001b[1;33m=\u001b[0m \u001b[0mdf\u001b[0m\u001b[1;33m[\u001b[0m\u001b[1;34m\"clean_notes\"\u001b[0m\u001b[1;33m]\u001b[0m\u001b[1;33m.\u001b[0m\u001b[0mapply\u001b[0m\u001b[1;33m(\u001b[0m\u001b[1;32mlambda\u001b[0m \u001b[0mx\u001b[0m\u001b[1;33m:\u001b[0m \u001b[0mremove_stopwords\u001b[0m\u001b[1;33m(\u001b[0m\u001b[0mx\u001b[0m\u001b[1;33m)\u001b[0m\u001b[1;33m)\u001b[0m\u001b[1;33m\u001b[0m\u001b[0m\n\u001b[0m",
      "\u001b[1;32m<ipython-input-64-234dfdbae513>\u001b[0m in \u001b[0;36mremove_stopwords\u001b[1;34m(text)\u001b[0m\n\u001b[0;32m      1\u001b[0m \u001b[1;32mdef\u001b[0m \u001b[0mremove_stopwords\u001b[0m\u001b[1;33m(\u001b[0m\u001b[0mtext\u001b[0m\u001b[1;33m)\u001b[0m\u001b[1;33m:\u001b[0m\u001b[1;33m\u001b[0m\u001b[0m\n\u001b[1;32m----> 2\u001b[1;33m     \u001b[0mwords\u001b[0m \u001b[1;33m=\u001b[0m \u001b[1;33m[\u001b[0m\u001b[0mw\u001b[0m \u001b[1;32mfor\u001b[0m \u001b[0mw\u001b[0m \u001b[1;32min\u001b[0m \u001b[0mtext\u001b[0m \u001b[1;32mif\u001b[0m \u001b[0mw\u001b[0m \u001b[1;32mnot\u001b[0m \u001b[1;32min\u001b[0m \u001b[0mstopwords\u001b[0m\u001b[1;33m.\u001b[0m\u001b[0mwords\u001b[0m\u001b[1;33m(\u001b[0m\u001b[1;34m'english'\u001b[0m\u001b[1;33m)\u001b[0m\u001b[1;33m]\u001b[0m\u001b[1;33m\u001b[0m\u001b[0m\n\u001b[0m\u001b[0;32m      3\u001b[0m     \u001b[1;32mreturn\u001b[0m \u001b[0mwords\u001b[0m\u001b[1;33m\u001b[0m\u001b[0m\n",
      "\u001b[1;32m<ipython-input-64-234dfdbae513>\u001b[0m in \u001b[0;36m<listcomp>\u001b[1;34m(.0)\u001b[0m\n\u001b[0;32m      1\u001b[0m \u001b[1;32mdef\u001b[0m \u001b[0mremove_stopwords\u001b[0m\u001b[1;33m(\u001b[0m\u001b[0mtext\u001b[0m\u001b[1;33m)\u001b[0m\u001b[1;33m:\u001b[0m\u001b[1;33m\u001b[0m\u001b[0m\n\u001b[1;32m----> 2\u001b[1;33m     \u001b[0mwords\u001b[0m \u001b[1;33m=\u001b[0m \u001b[1;33m[\u001b[0m\u001b[0mw\u001b[0m \u001b[1;32mfor\u001b[0m \u001b[0mw\u001b[0m \u001b[1;32min\u001b[0m \u001b[0mtext\u001b[0m \u001b[1;32mif\u001b[0m \u001b[0mw\u001b[0m \u001b[1;32mnot\u001b[0m \u001b[1;32min\u001b[0m \u001b[0mstopwords\u001b[0m\u001b[1;33m.\u001b[0m\u001b[0mwords\u001b[0m\u001b[1;33m(\u001b[0m\u001b[1;34m'english'\u001b[0m\u001b[1;33m)\u001b[0m\u001b[1;33m]\u001b[0m\u001b[1;33m\u001b[0m\u001b[0m\n\u001b[0m\u001b[0;32m      3\u001b[0m     \u001b[1;32mreturn\u001b[0m \u001b[0mwords\u001b[0m\u001b[1;33m\u001b[0m\u001b[0m\n",
      "\u001b[1;32m~\\Anaconda3\\lib\\site-packages\\nltk\\corpus\\reader\\wordlist.py\u001b[0m in \u001b[0;36mwords\u001b[1;34m(self, fileids, ignore_lines_startswith)\u001b[0m\n\u001b[0;32m     21\u001b[0m         return [\n\u001b[0;32m     22\u001b[0m             \u001b[0mline\u001b[0m\u001b[1;33m\u001b[0m\u001b[0m\n\u001b[1;32m---> 23\u001b[1;33m             \u001b[1;32mfor\u001b[0m \u001b[0mline\u001b[0m \u001b[1;32min\u001b[0m \u001b[0mline_tokenize\u001b[0m\u001b[1;33m(\u001b[0m\u001b[0mself\u001b[0m\u001b[1;33m.\u001b[0m\u001b[0mraw\u001b[0m\u001b[1;33m(\u001b[0m\u001b[0mfileids\u001b[0m\u001b[1;33m)\u001b[0m\u001b[1;33m)\u001b[0m\u001b[1;33m\u001b[0m\u001b[0m\n\u001b[0m\u001b[0;32m     24\u001b[0m             \u001b[1;32mif\u001b[0m \u001b[1;32mnot\u001b[0m \u001b[0mline\u001b[0m\u001b[1;33m.\u001b[0m\u001b[0mstartswith\u001b[0m\u001b[1;33m(\u001b[0m\u001b[0mignore_lines_startswith\u001b[0m\u001b[1;33m)\u001b[0m\u001b[1;33m\u001b[0m\u001b[0m\n\u001b[0;32m     25\u001b[0m         ]\n",
      "\u001b[1;32m~\\Anaconda3\\lib\\site-packages\\nltk\\corpus\\reader\\wordlist.py\u001b[0m in \u001b[0;36mraw\u001b[1;34m(self, fileids)\u001b[0m\n\u001b[0;32m     30\u001b[0m         \u001b[1;32melif\u001b[0m \u001b[0misinstance\u001b[0m\u001b[1;33m(\u001b[0m\u001b[0mfileids\u001b[0m\u001b[1;33m,\u001b[0m \u001b[0mstr\u001b[0m\u001b[1;33m)\u001b[0m\u001b[1;33m:\u001b[0m\u001b[1;33m\u001b[0m\u001b[0m\n\u001b[0;32m     31\u001b[0m             \u001b[0mfileids\u001b[0m \u001b[1;33m=\u001b[0m \u001b[1;33m[\u001b[0m\u001b[0mfileids\u001b[0m\u001b[1;33m]\u001b[0m\u001b[1;33m\u001b[0m\u001b[0m\n\u001b[1;32m---> 32\u001b[1;33m         \u001b[1;32mreturn\u001b[0m \u001b[0mconcat\u001b[0m\u001b[1;33m(\u001b[0m\u001b[1;33m[\u001b[0m\u001b[0mself\u001b[0m\u001b[1;33m.\u001b[0m\u001b[0mopen\u001b[0m\u001b[1;33m(\u001b[0m\u001b[0mf\u001b[0m\u001b[1;33m)\u001b[0m\u001b[1;33m.\u001b[0m\u001b[0mread\u001b[0m\u001b[1;33m(\u001b[0m\u001b[1;33m)\u001b[0m \u001b[1;32mfor\u001b[0m \u001b[0mf\u001b[0m \u001b[1;32min\u001b[0m \u001b[0mfileids\u001b[0m\u001b[1;33m]\u001b[0m\u001b[1;33m)\u001b[0m\u001b[1;33m\u001b[0m\u001b[0m\n\u001b[0m\u001b[0;32m     33\u001b[0m \u001b[1;33m\u001b[0m\u001b[0m\n\u001b[0;32m     34\u001b[0m \u001b[1;33m\u001b[0m\u001b[0m\n",
      "\u001b[1;32m~\\Anaconda3\\lib\\site-packages\\nltk\\corpus\\reader\\wordlist.py\u001b[0m in \u001b[0;36m<listcomp>\u001b[1;34m(.0)\u001b[0m\n\u001b[0;32m     30\u001b[0m         \u001b[1;32melif\u001b[0m \u001b[0misinstance\u001b[0m\u001b[1;33m(\u001b[0m\u001b[0mfileids\u001b[0m\u001b[1;33m,\u001b[0m \u001b[0mstr\u001b[0m\u001b[1;33m)\u001b[0m\u001b[1;33m:\u001b[0m\u001b[1;33m\u001b[0m\u001b[0m\n\u001b[0;32m     31\u001b[0m             \u001b[0mfileids\u001b[0m \u001b[1;33m=\u001b[0m \u001b[1;33m[\u001b[0m\u001b[0mfileids\u001b[0m\u001b[1;33m]\u001b[0m\u001b[1;33m\u001b[0m\u001b[0m\n\u001b[1;32m---> 32\u001b[1;33m         \u001b[1;32mreturn\u001b[0m \u001b[0mconcat\u001b[0m\u001b[1;33m(\u001b[0m\u001b[1;33m[\u001b[0m\u001b[0mself\u001b[0m\u001b[1;33m.\u001b[0m\u001b[0mopen\u001b[0m\u001b[1;33m(\u001b[0m\u001b[0mf\u001b[0m\u001b[1;33m)\u001b[0m\u001b[1;33m.\u001b[0m\u001b[0mread\u001b[0m\u001b[1;33m(\u001b[0m\u001b[1;33m)\u001b[0m \u001b[1;32mfor\u001b[0m \u001b[0mf\u001b[0m \u001b[1;32min\u001b[0m \u001b[0mfileids\u001b[0m\u001b[1;33m]\u001b[0m\u001b[1;33m)\u001b[0m\u001b[1;33m\u001b[0m\u001b[0m\n\u001b[0m\u001b[0;32m     33\u001b[0m \u001b[1;33m\u001b[0m\u001b[0m\n\u001b[0;32m     34\u001b[0m \u001b[1;33m\u001b[0m\u001b[0m\n",
      "\u001b[1;32m~\\Anaconda3\\lib\\site-packages\\nltk\\corpus\\reader\\api.py\u001b[0m in \u001b[0;36mopen\u001b[1;34m(self, file)\u001b[0m\n\u001b[0;32m    209\u001b[0m         \"\"\"\n\u001b[0;32m    210\u001b[0m         \u001b[0mencoding\u001b[0m \u001b[1;33m=\u001b[0m \u001b[0mself\u001b[0m\u001b[1;33m.\u001b[0m\u001b[0mencoding\u001b[0m\u001b[1;33m(\u001b[0m\u001b[0mfile\u001b[0m\u001b[1;33m)\u001b[0m\u001b[1;33m\u001b[0m\u001b[0m\n\u001b[1;32m--> 211\u001b[1;33m         \u001b[0mstream\u001b[0m \u001b[1;33m=\u001b[0m \u001b[0mself\u001b[0m\u001b[1;33m.\u001b[0m\u001b[0m_root\u001b[0m\u001b[1;33m.\u001b[0m\u001b[0mjoin\u001b[0m\u001b[1;33m(\u001b[0m\u001b[0mfile\u001b[0m\u001b[1;33m)\u001b[0m\u001b[1;33m.\u001b[0m\u001b[0mopen\u001b[0m\u001b[1;33m(\u001b[0m\u001b[0mencoding\u001b[0m\u001b[1;33m)\u001b[0m\u001b[1;33m\u001b[0m\u001b[0m\n\u001b[0m\u001b[0;32m    212\u001b[0m         \u001b[1;32mreturn\u001b[0m \u001b[0mstream\u001b[0m\u001b[1;33m\u001b[0m\u001b[0m\n\u001b[0;32m    213\u001b[0m \u001b[1;33m\u001b[0m\u001b[0m\n",
      "\u001b[1;32m~\\Anaconda3\\lib\\site-packages\\nltk\\data.py\u001b[0m in \u001b[0;36mopen\u001b[1;34m(self, encoding)\u001b[0m\n\u001b[0;32m    323\u001b[0m \u001b[1;33m\u001b[0m\u001b[0m\n\u001b[0;32m    324\u001b[0m     \u001b[1;32mdef\u001b[0m \u001b[0mopen\u001b[0m\u001b[1;33m(\u001b[0m\u001b[0mself\u001b[0m\u001b[1;33m,\u001b[0m \u001b[0mencoding\u001b[0m\u001b[1;33m=\u001b[0m\u001b[1;32mNone\u001b[0m\u001b[1;33m)\u001b[0m\u001b[1;33m:\u001b[0m\u001b[1;33m\u001b[0m\u001b[0m\n\u001b[1;32m--> 325\u001b[1;33m         \u001b[0mstream\u001b[0m \u001b[1;33m=\u001b[0m \u001b[0mopen\u001b[0m\u001b[1;33m(\u001b[0m\u001b[0mself\u001b[0m\u001b[1;33m.\u001b[0m\u001b[0m_path\u001b[0m\u001b[1;33m,\u001b[0m \u001b[1;34m\"rb\"\u001b[0m\u001b[1;33m)\u001b[0m\u001b[1;33m\u001b[0m\u001b[0m\n\u001b[0m\u001b[0;32m    326\u001b[0m         \u001b[1;32mif\u001b[0m \u001b[0mencoding\u001b[0m \u001b[1;32mis\u001b[0m \u001b[1;32mnot\u001b[0m \u001b[1;32mNone\u001b[0m\u001b[1;33m:\u001b[0m\u001b[1;33m\u001b[0m\u001b[0m\n\u001b[0;32m    327\u001b[0m             \u001b[0mstream\u001b[0m \u001b[1;33m=\u001b[0m \u001b[0mSeekableUnicodeStreamReader\u001b[0m\u001b[1;33m(\u001b[0m\u001b[0mstream\u001b[0m\u001b[1;33m,\u001b[0m \u001b[0mencoding\u001b[0m\u001b[1;33m)\u001b[0m\u001b[1;33m\u001b[0m\u001b[0m\n",
      "\u001b[1;31mKeyboardInterrupt\u001b[0m: "
     ]
    }
   ],
   "source": [
    "df[\"new_notes\"] = df[\"clean_notes\"].apply(lambda x: remove_stopwords(x))\n"
   ]
  },
  {
   "cell_type": "code",
   "execution_count": null,
   "id": "97db7464",
   "metadata": {},
   "outputs": [],
   "source": [
    "df = df[[event_type], [new_notes]]"
   ]
  },
  {
   "cell_type": "code",
   "execution_count": null,
   "id": "828eb482",
   "metadata": {},
   "outputs": [],
   "source": [
    "df"
   ]
  },
  {
   "cell_type": "code",
   "execution_count": null,
   "id": "2d77cd55",
   "metadata": {},
   "outputs": [],
   "source": [
    "# saving the new df as csv\n",
    "df_new.to_csv(r'C:\\Users\\ntsegie\\Documents\\Datascience\\Class_Files\\ACLED\\ACLED\\CSV_Main\\Africa_3years_preprocessed_dataset.csv')"
   ]
  },
  {
   "cell_type": "markdown",
   "id": "5b53f8f4",
   "metadata": {},
   "source": [
    "# Modeling and Visualization"
   ]
  },
  {
   "cell_type": "code",
   "execution_count": 226,
   "id": "30c2ad86",
   "metadata": {
    "scrolled": true
   },
   "outputs": [],
   "source": [
    "import pandas as pd\n",
    "import matplotlib.pyplot as plt\n",
    "import numpy as np \n",
    "import nltk\n",
    "import sklearn\n",
    "import re\n",
    "\n",
    "\n",
    "from yellowbrick.classifier import ClassificationReport\n",
    "from yellowbrick.classifier import ClassPredictionError\n",
    "\n",
    "from sklearn.pipeline import Pipeline\n",
    "\n",
    "\n",
    "from sklearn.feature_extraction.text import TfidfVectorizer\n",
    "from sklearn.feature_extraction.text import CountVectorizer\n",
    "from sklearn.ensemble import RandomForestClassifier\n",
    "from sklearn.linear_model import LogisticRegression\n",
    "from sklearn.model_selection import train_test_split\n",
    "from sklearn.preprocessing import LabelEncoder\n",
    "from sklearn.metrics import f1_score\n",
    "from sklearn.metrics import precision_score, recall_score\n",
    "from sklearn.model_selection import RandomizedSearchCV\n",
    "from sklearn.ensemble import RandomForestRegressor\n",
    "\n",
    "from sklearn.naive_bayes import MultinomialNB\n",
    "\n",
    "\n",
    "\n"
   ]
  },
  {
   "cell_type": "code",
   "execution_count": 205,
   "id": "8e8494a0",
   "metadata": {},
   "outputs": [],
   "source": [
    "path = r'C:\\Users\\ntsegie\\Documents\\Datascience\\Class_Files\\ACLED\\ACLED\\CSV_Main\\Africa_3years_preprocessed_dataset.csv'"
   ]
  },
  {
   "cell_type": "code",
   "execution_count": 206,
   "id": "2a0a92aa",
   "metadata": {},
   "outputs": [],
   "source": [
    "df = pd.read_csv(path)"
   ]
  },
  {
   "cell_type": "code",
   "execution_count": 207,
   "id": "a0d12d07",
   "metadata": {
    "scrolled": false
   },
   "outputs": [
    {
     "data": {
      "text/html": [
       "<div>\n",
       "<style scoped>\n",
       "    .dataframe tbody tr th:only-of-type {\n",
       "        vertical-align: middle;\n",
       "    }\n",
       "\n",
       "    .dataframe tbody tr th {\n",
       "        vertical-align: top;\n",
       "    }\n",
       "\n",
       "    .dataframe thead th {\n",
       "        text-align: right;\n",
       "    }\n",
       "</style>\n",
       "<table border=\"1\" class=\"dataframe\">\n",
       "  <thead>\n",
       "    <tr style=\"text-align: right;\">\n",
       "      <th></th>\n",
       "      <th>data_id</th>\n",
       "      <th>event_type</th>\n",
       "      <th>notes</th>\n",
       "    </tr>\n",
       "  </thead>\n",
       "  <tbody>\n",
       "    <tr>\n",
       "      <th>0</th>\n",
       "      <td>8403972</td>\n",
       "      <td>Battles</td>\n",
       "      <td>On 30 July 2021, Al Shabaab militants carried ...</td>\n",
       "    </tr>\n",
       "    <tr>\n",
       "      <th>1</th>\n",
       "      <td>8403725</td>\n",
       "      <td>Battles</td>\n",
       "      <td>On 30 July 2021, Al Shabaab militants attacked...</td>\n",
       "    </tr>\n",
       "    <tr>\n",
       "      <th>2</th>\n",
       "      <td>8403994</td>\n",
       "      <td>Protests</td>\n",
       "      <td>On 30 July 2021, the Mobile Intervention Unit ...</td>\n",
       "    </tr>\n",
       "    <tr>\n",
       "      <th>3</th>\n",
       "      <td>8403499</td>\n",
       "      <td>Violence against civilians</td>\n",
       "      <td>On 30 July 2021, presumed JNIM militants made ...</td>\n",
       "    </tr>\n",
       "    <tr>\n",
       "      <th>4</th>\n",
       "      <td>8404027</td>\n",
       "      <td>Protests</td>\n",
       "      <td>On 30 July 2021, residents held a sit-in in Re...</td>\n",
       "    </tr>\n",
       "    <tr>\n",
       "      <th>...</th>\n",
       "      <td>...</td>\n",
       "      <td>...</td>\n",
       "      <td>...</td>\n",
       "    </tr>\n",
       "    <tr>\n",
       "      <th>83689</th>\n",
       "      <td>7580116</td>\n",
       "      <td>Protests</td>\n",
       "      <td>30 July. Tricycle operators under the aegis of...</td>\n",
       "    </tr>\n",
       "    <tr>\n",
       "      <th>83690</th>\n",
       "      <td>7999450</td>\n",
       "      <td>Explosions/Remote violence</td>\n",
       "      <td>On 30 July, a grenade was thrown at Somali Nat...</td>\n",
       "    </tr>\n",
       "    <tr>\n",
       "      <th>83691</th>\n",
       "      <td>8380396</td>\n",
       "      <td>Explosions/Remote violence</td>\n",
       "      <td>On 30 July 2018, presumed Ansar Dine militant ...</td>\n",
       "    </tr>\n",
       "    <tr>\n",
       "      <th>83692</th>\n",
       "      <td>4618224</td>\n",
       "      <td>Riots</td>\n",
       "      <td>On 30 July, members of a local NGO at a protes...</td>\n",
       "    </tr>\n",
       "    <tr>\n",
       "      <th>83693</th>\n",
       "      <td>5636345</td>\n",
       "      <td>Explosions/Remote violence</td>\n",
       "      <td>On 30 July, a Kenyan military warplane reporte...</td>\n",
       "    </tr>\n",
       "  </tbody>\n",
       "</table>\n",
       "<p>83694 rows × 3 columns</p>\n",
       "</div>"
      ],
      "text/plain": [
       "       data_id                  event_type  \\\n",
       "0      8403972                     Battles   \n",
       "1      8403725                     Battles   \n",
       "2      8403994                    Protests   \n",
       "3      8403499  Violence against civilians   \n",
       "4      8404027                    Protests   \n",
       "...        ...                         ...   \n",
       "83689  7580116                    Protests   \n",
       "83690  7999450  Explosions/Remote violence   \n",
       "83691  8380396  Explosions/Remote violence   \n",
       "83692  4618224                       Riots   \n",
       "83693  5636345  Explosions/Remote violence   \n",
       "\n",
       "                                                   notes  \n",
       "0      On 30 July 2021, Al Shabaab militants carried ...  \n",
       "1      On 30 July 2021, Al Shabaab militants attacked...  \n",
       "2      On 30 July 2021, the Mobile Intervention Unit ...  \n",
       "3      On 30 July 2021, presumed JNIM militants made ...  \n",
       "4      On 30 July 2021, residents held a sit-in in Re...  \n",
       "...                                                  ...  \n",
       "83689  30 July. Tricycle operators under the aegis of...  \n",
       "83690  On 30 July, a grenade was thrown at Somali Nat...  \n",
       "83691  On 30 July 2018, presumed Ansar Dine militant ...  \n",
       "83692  On 30 July, members of a local NGO at a protes...  \n",
       "83693  On 30 July, a Kenyan military warplane reporte...  \n",
       "\n",
       "[83694 rows x 3 columns]"
      ]
     },
     "execution_count": 207,
     "metadata": {},
     "output_type": "execute_result"
    }
   ],
   "source": [
    "df"
   ]
  },
  {
   "cell_type": "code",
   "execution_count": 208,
   "id": "42307abb",
   "metadata": {
    "scrolled": false
   },
   "outputs": [
    {
     "data": {
      "image/png": "[encoded data removed]",
      "text/plain": [
       "<Figure size 576x396 with 1 Axes>"
      ]
     },
     "metadata": {},
     "output_type": "display_data"
    }
   ],
   "source": [
    "x = \"event_type\"\n",
    "fig, ax = plt.subplots()\n",
    "fig.suptitle(x, fontsize=12)\n",
    "df[x].reset_index().groupby(x).count().sort_values(by= \n",
    "       \"index\").plot(kind=\"barh\", legend=False, \n",
    "        ax=ax).grid(axis='x')\n",
    "plt.show()"
   ]
  },
  {
   "cell_type": "code",
   "execution_count": 209,
   "id": "e9c235e3",
   "metadata": {
    "scrolled": true
   },
   "outputs": [
    {
     "name": "stdout",
     "output_type": "stream",
     "text": [
      "--- Original notes ---\n",
      "0        On 30 July 2021, Al Shabaab militants carried ...\n",
      "1        On 30 July 2021, Al Shabaab militants attacked...\n",
      "2        On 30 July 2021, the Mobile Intervention Unit ...\n",
      "3        On 30 July 2021, presumed JNIM militants made ...\n",
      "4        On 30 July 2021, residents held a sit-in in Re...\n",
      "                               ...                        \n",
      "83689    30 July. Tricycle operators under the aegis of...\n",
      "83690    On 30 July, a grenade was thrown at Somali Nat...\n",
      "83691    On 30 July 2018, presumed Ansar Dine militant ...\n",
      "83692    On 30 July, members of a local NGO at a protes...\n",
      "83693    On 30 July, a Kenyan military warplane reporte...\n",
      "Name: notes, Length: 83694, dtype: object\n",
      "--- Notes turned to lowercase ---\n",
      "0        on 30 july 2021 al shabaab militants carried \n",
      "1        on 30 july 2021 al shabaab militants attacked\n",
      "2        on 30 july 2021 the mobile intervention unit \n",
      "3        on 30 july 2021 presumed jnim militants made \n",
      "4        on 30 july 2021 residents held a sitin in re\n",
      "                                                       \n",
      "83689    30 july tricycle operators under the aegis of\n",
      "83690    on 30 july a grenade was thrown at somali nat\n",
      "83691    on 30 july 2018 presumed ansar dine militant \n",
      "83692    on 30 july members of a local ngo at a protes\n",
      "83693    on 30 july a kenyan military warplane reporte\n",
      "name notes length 83694 dtype object\n",
      "--- tokenized Notes ---\n",
      "['0', 'on', '30', 'july', '2021', 'al', 'shabaab', 'militants', 'carried', '1', 'on', '30', 'july', '2021', 'al', 'shabaab', 'militants', 'attacked', '2', 'on', '30', 'july', '2021', 'the', 'mobile', 'intervention', 'unit', '3', 'on', '30', 'july', '2021', 'presumed', 'jnim', 'militants', 'made', '4', 'on', '30', 'july', '2021', 'residents', 'held', 'a', 'sitin', 'in', 're', '83689', '30', 'july', 'tricycle', 'operators', 'under', 'the', 'aegis', 'of', '83690', 'on', '30', 'july', 'a', 'grenade', 'was', 'thrown', 'at', 'somali', 'nat', '83691', 'on', '30', 'july', '2018', 'presumed', 'ansar', 'dine', 'militant', '83692', 'on', '30', 'july', 'members', 'of', 'a', 'local', 'ngo', 'at', 'a', 'protes', '83693', 'on', '30', 'july', 'a', 'kenyan', 'military', 'warplane', 'reporte', 'name', 'notes', 'length', '83694', 'dtype', 'object']\n"
     ]
    }
   ],
   "source": [
    "print(\"--- Original notes ---\")\n",
    "print(df[\"notes\"])\n",
    "print(\"--- Notes turned to lowercase ---\")\n",
    "notes = re.sub(r'[^\\w\\s]', '', str(df[\"notes\"]).lower().strip())\n",
    "print(notes)\n",
    "print(\"--- tokenized Notes ---\")\n",
    "notes = notes.split()\n",
    "print(notes)"
   ]
  },
  {
   "cell_type": "code",
   "execution_count": 210,
   "id": "f1ad401a",
   "metadata": {},
   "outputs": [],
   "source": [
    "def plotConfusionMaxtrix(confmat_data=None,xlabel='',ylabel='',title='',cmap=plt.cm.Blues,plt_ax=None):\n",
    "    \"\"\"\n",
    "    Used for drawing - confusion matrix\n",
    "    \"\"\"\n",
    "    plt_ax.matshow(confmat_data, cmap=cmap, alpha=0.75)\n",
    "    for i in range(confmat_data.shape[0]):\n",
    "        for j in range(confmat_data.shape[1]):\n",
    "            plt_ax.text(x=j, y=i,s=confmat_data[i, j],va='center', ha='center',fontsize=12)\n",
    "    plt_ax.set_xlabel(xlabel,fontsize=12)\n",
    "    plt_ax.set_ylabel(ylabel,fontsize=12)\n",
    "    plt_ax.set_title(title,fontsize=12)\n",
    "    return "
   ]
  },
  {
   "cell_type": "code",
   "execution_count": 211,
   "id": "7fe3b098",
   "metadata": {},
   "outputs": [],
   "source": [
    "\n",
    "X = df[\"notes\"].values\n",
    "y_raw = df[\"event_type\"].values"
   ]
  },
  {
   "cell_type": "code",
   "execution_count": 212,
   "id": "b487cfa9",
   "metadata": {},
   "outputs": [
    {
     "name": "stdout",
     "output_type": "stream",
     "text": [
      "[0 0 2 ... 1 3 1]\n"
     ]
    }
   ],
   "source": [
    "# encoding our labels\n",
    "encoder = LabelEncoder()\n",
    "encoder.fit(y_raw)\n",
    "y = encoder.transform(y_raw)\n",
    "print(y)"
   ]
  },
  {
   "cell_type": "code",
   "execution_count": 213,
   "id": "40469b4e",
   "metadata": {},
   "outputs": [
    {
     "name": "stdout",
     "output_type": "stream",
     "text": [
      "['Battles' 'Explosions/Remote violence' 'Protests' 'Riots'\n",
      " 'Strategic developments' 'Violence against civilians']\n"
     ]
    }
   ],
   "source": [
    "#checking out the classes\n",
    "print(encoder.classes_)"
   ]
  },
  {
   "cell_type": "code",
   "execution_count": 214,
   "id": "4070f3fd",
   "metadata": {
    "scrolled": true
   },
   "outputs": [
    {
     "name": "stdout",
     "output_type": "stream",
     "text": [
      "['Battles' 'Battles' 'Explosions/Remote violence' 'Protests']\n"
     ]
    }
   ],
   "source": [
    "# if we want to go backwards and interpret what the numeric labels mean:\n",
    "print(encoder.inverse_transform([0, 0, 1, 2]))"
   ]
  },
  {
   "cell_type": "markdown",
   "id": "c53ec82e",
   "metadata": {},
   "source": [
    "# # Classification Models with Vectorizers\n",
    "(-) Random Forest Classifier\n",
    "(-) Logistic Regression\n",
    "(-) MultinomialNB\n",
    "(-) Count Vectorizer\n",
    "(-) TFidf Vectorizer"
   ]
  },
  {
   "cell_type": "code",
   "execution_count": 220,
   "id": "c04b0429",
   "metadata": {},
   "outputs": [],
   "source": [
    "vectorizers = [CountVectorizer(), TfidfVectorizer()]\n",
    "algorithms = [RandomForestClassifier(), LogisticRegression(), MultinomialNB()] # add Naive Bayes Classifier also\n"
   ]
  },
  {
   "cell_type": "code",
   "execution_count": null,
   "id": "4aa8637d",
   "metadata": {},
   "outputs": [],
   "source": []
  },
  {
   "cell_type": "code",
   "execution_count": 221,
   "id": "03066e84",
   "metadata": {},
   "outputs": [],
   "source": [
    "def score_model(X, y, algorithm, vectorizer):\n",
    "    \"\"\"\n",
    "    Test various estimators.\n",
    "    \"\"\"\n",
    "    model = Pipeline([\n",
    "        ('vectorizer', vectorizer),\n",
    "        ('estimator', algorithm)\n",
    "    ])\n",
    "\n",
    "    # split the data\n",
    "    X_train, X_test, y_train, y_test = train_test_split(\n",
    "        X, y, test_size=0.33, random_state=42\n",
    "    )\n",
    "    \n",
    "    # Instantiate the classification model and visualizer\n",
    "    model.fit(X_train, y_train)\n",
    "\n",
    "    expected  = y_test\n",
    "    predicted = model.predict(X_test)\n",
    "\n",
    "    # Compute and return F1 (harmonic mean of precision and recall)\n",
    "    print(\"{}: {}\".format(algorithm.__class__.__name__, f1_score(expected, predicted, average='micro')))\n"
   ]
  },
  {
   "cell_type": "code",
   "execution_count": 222,
   "id": "3b72a6a0",
   "metadata": {},
   "outputs": [
    {
     "name": "stdout",
     "output_type": "stream",
     "text": [
      "RandomForestClassifier: 0.8900072411296163\n",
      "RandomForestClassifier: 0.8887038377986965\n"
     ]
    },
    {
     "name": "stderr",
     "output_type": "stream",
     "text": [
      "C:\\Users\\ntsegie\\Anaconda3\\lib\\site-packages\\sklearn\\linear_model\\_logistic.py:765: ConvergenceWarning: lbfgs failed to converge (status=1):\n",
      "STOP: TOTAL NO. of ITERATIONS REACHED LIMIT.\n",
      "\n",
      "Increase the number of iterations (max_iter) or scale the data as shown in:\n",
      "    https://scikit-learn.org/stable/modules/preprocessing.html\n",
      "Please also refer to the documentation for alternative solver options:\n",
      "    https://scikit-learn.org/stable/modules/linear_model.html#logistic-regression\n",
      "  extra_warning_msg=_LOGISTIC_SOLVER_CONVERGENCE_MSG)\n"
     ]
    },
    {
     "name": "stdout",
     "output_type": "stream",
     "text": [
      "LogisticRegression: 0.9412020275162926\n"
     ]
    },
    {
     "name": "stderr",
     "output_type": "stream",
     "text": [
      "C:\\Users\\ntsegie\\Anaconda3\\lib\\site-packages\\sklearn\\linear_model\\_logistic.py:765: ConvergenceWarning: lbfgs failed to converge (status=1):\n",
      "STOP: TOTAL NO. of ITERATIONS REACHED LIMIT.\n",
      "\n",
      "Increase the number of iterations (max_iter) or scale the data as shown in:\n",
      "    https://scikit-learn.org/stable/modules/preprocessing.html\n",
      "Please also refer to the documentation for alternative solver options:\n",
      "    https://scikit-learn.org/stable/modules/linear_model.html#logistic-regression\n",
      "  extra_warning_msg=_LOGISTIC_SOLVER_CONVERGENCE_MSG)\n"
     ]
    },
    {
     "name": "stdout",
     "output_type": "stream",
     "text": [
      "LogisticRegression: 0.9343953656770456\n",
      "MultinomialNB: 0.856480811006517\n",
      "MultinomialNB: 0.7919985517740769\n"
     ]
    }
   ],
   "source": [
    "for algorithm in algorithms:\n",
    "    for vectorizer in vectorizers:\n",
    "        score_model(X, y, algorithm, vectorizer)"
   ]
  },
  {
   "cell_type": "code",
   "execution_count": 59,
   "id": "95c26cc2",
   "metadata": {},
   "outputs": [],
   "source": [
    "# Note - Logistic Regression seems to gives better outcome"
   ]
  },
  {
   "cell_type": "code",
   "execution_count": 14,
   "id": "4cad037d",
   "metadata": {},
   "outputs": [],
   "source": [
    "def visualize_model(X, y, algorithm, vectorizer):\n",
    "    \"\"\"\n",
    "    Visually compare the models\n",
    "    \"\"\"\n",
    "    model = Pipeline([\n",
    "        ('vectorizer', vectorizer),\n",
    "        ('estimator', algorithm)\n",
    "    ])\n",
    "\n",
    "    # Instantiate the classification model and visualizer\n",
    "    visualizer = ClassificationReport(\n",
    "        model, classes=encoder.classes_\n",
    "    )\n",
    "    \n",
    "    # split the data\n",
    "    X_train, X_test, y_train, y_test = train_test_split(\n",
    "        X, y, test_size=0.33, random_state=42\n",
    "    )\n",
    "    \n",
    "    visualizer.fit(X_train, y_train)\n",
    "    visualizer.score(X_test, y_test)\n",
    "    visualizer.show()"
   ]
  },
  {
   "cell_type": "code",
   "execution_count": 15,
   "id": "dc6f9c96",
   "metadata": {},
   "outputs": [
    {
     "data": {
      "image/png": "[encoded data removed]",
      "text/plain": [
       "<Figure size 576x396 with 2 Axes>"
      ]
     },
     "metadata": {},
     "output_type": "display_data"
    },
    {
     "data": {
      "image/png": "[encoded data removed]",
      "text/plain": [
       "<Figure size 576x396 with 2 Axes>"
      ]
     },
     "metadata": {},
     "output_type": "display_data"
    },
    {
     "name": "stderr",
     "output_type": "stream",
     "text": [
      "C:\\Users\\ntsegie\\Anaconda3\\lib\\site-packages\\sklearn\\linear_model\\_logistic.py:765: ConvergenceWarning: lbfgs failed to converge (status=1):\n",
      "STOP: TOTAL NO. of ITERATIONS REACHED LIMIT.\n",
      "\n",
      "Increase the number of iterations (max_iter) or scale the data as shown in:\n",
      "    https://scikit-learn.org/stable/modules/preprocessing.html\n",
      "Please also refer to the documentation for alternative solver options:\n",
      "    https://scikit-learn.org/stable/modules/linear_model.html#logistic-regression\n",
      "  extra_warning_msg=_LOGISTIC_SOLVER_CONVERGENCE_MSG)\n"
     ]
    },
    {
     "data": {
      "image/png": "[encoded data removed]",
      "text/plain": [
       "<Figure size 576x396 with 2 Axes>"
      ]
     },
     "metadata": {},
     "output_type": "display_data"
    },
    {
     "name": "stderr",
     "output_type": "stream",
     "text": [
      "C:\\Users\\ntsegie\\Anaconda3\\lib\\site-packages\\sklearn\\linear_model\\_logistic.py:765: ConvergenceWarning: lbfgs failed to converge (status=1):\n",
      "STOP: TOTAL NO. of ITERATIONS REACHED LIMIT.\n",
      "\n",
      "Increase the number of iterations (max_iter) or scale the data as shown in:\n",
      "    https://scikit-learn.org/stable/modules/preprocessing.html\n",
      "Please also refer to the documentation for alternative solver options:\n",
      "    https://scikit-learn.org/stable/modules/linear_model.html#logistic-regression\n",
      "  extra_warning_msg=_LOGISTIC_SOLVER_CONVERGENCE_MSG)\n"
     ]
    },
    {
     "data": {
      "image/png": "[encoded data removed]",
      "text/plain": [
       "<Figure size 576x396 with 2 Axes>"
      ]
     },
     "metadata": {},
     "output_type": "display_data"
    },
    {
     "data": {
      "image/png": "[encoded data removed]",
      "text/plain": [
       "<Figure size 576x396 with 2 Axes>"
      ]
     },
     "metadata": {},
     "output_type": "display_data"
    },
    {
     "data": {
      "image/png": "[encoded data removed]",
      "text/plain": [
       "<Figure size 576x396 with 2 Axes>"
      ]
     },
     "metadata": {},
     "output_type": "display_data"
    }
   ],
   "source": [
    "for algorithm in algorithms:\n",
    "    for vectorizer in vectorizers:\n",
    "        visualize_model(X, y, algorithm, vectorizer)\n",
    "\n"
   ]
  },
  {
   "cell_type": "code",
   "execution_count": 39,
   "id": "fcab4535",
   "metadata": {},
   "outputs": [],
   "source": [
    "# Create class prediction error function\n",
    "\n",
    "def evaluate_model(X, y, algorithm, vectorizer):\n",
    "    \"\"\"\n",
    "    Evaluate various estimators.\n",
    "    \"\"\"\n",
    "    model = Pipeline([\n",
    "        ('vectorizer', vectorizer),\n",
    "        ('estimator', algorithm)\n",
    "    ])\n",
    "\n",
    "  \n",
    "    # split the data\n",
    "    X_train, X_test, y_train, y_test = train_test_split(\n",
    "        X, y, test_size=0.33, random_state=42\n",
    "    )\n",
    "    \n",
    "# Instantiate the class prediction error and visualizer\n",
    "    visualizer = ClassPredictionError(\n",
    "        model, classes=encoder.classes_\n",
    "    )\n",
    "\n",
    "# Fit the training data to the visualizer\n",
    "    visualizer.fit(X_train, y_train)\n",
    "\n",
    "# Evaluate the model on the test data\n",
    "    visualizer.score(X_test, y_test)\n",
    "\n",
    "# Draw visualization\n",
    "    visualizer.show()"
   ]
  },
  {
   "cell_type": "code",
   "execution_count": 40,
   "id": "36deacf0",
   "metadata": {},
   "outputs": [
    {
     "data": {
      "image/png": "[encoded data removed]",
      "text/plain": [
       "<Figure size 576x396 with 1 Axes>"
      ]
     },
     "metadata": {},
     "output_type": "display_data"
    },
    {
     "data": {
      "image/png": "[encoded data removed]",
      "text/plain": [
       "<Figure size 576x396 with 1 Axes>"
      ]
     },
     "metadata": {},
     "output_type": "display_data"
    },
    {
     "name": "stderr",
     "output_type": "stream",
     "text": [
      "C:\\Users\\ntsegie\\Anaconda3\\lib\\site-packages\\sklearn\\linear_model\\_logistic.py:765: ConvergenceWarning: lbfgs failed to converge (status=1):\n",
      "STOP: TOTAL NO. of ITERATIONS REACHED LIMIT.\n",
      "\n",
      "Increase the number of iterations (max_iter) or scale the data as shown in:\n",
      "    https://scikit-learn.org/stable/modules/preprocessing.html\n",
      "Please also refer to the documentation for alternative solver options:\n",
      "    https://scikit-learn.org/stable/modules/linear_model.html#logistic-regression\n",
      "  extra_warning_msg=_LOGISTIC_SOLVER_CONVERGENCE_MSG)\n"
     ]
    },
    {
     "data": {
      "image/png": "[encoded data removed]",
      "text/plain": [
       "<Figure size 576x396 with 1 Axes>"
      ]
     },
     "metadata": {},
     "output_type": "display_data"
    },
    {
     "name": "stderr",
     "output_type": "stream",
     "text": [
      "C:\\Users\\ntsegie\\Anaconda3\\lib\\site-packages\\sklearn\\linear_model\\_logistic.py:765: ConvergenceWarning: lbfgs failed to converge (status=1):\n",
      "STOP: TOTAL NO. of ITERATIONS REACHED LIMIT.\n",
      "\n",
      "Increase the number of iterations (max_iter) or scale the data as shown in:\n",
      "    https://scikit-learn.org/stable/modules/preprocessing.html\n",
      "Please also refer to the documentation for alternative solver options:\n",
      "    https://scikit-learn.org/stable/modules/linear_model.html#logistic-regression\n",
      "  extra_warning_msg=_LOGISTIC_SOLVER_CONVERGENCE_MSG)\n"
     ]
    },
    {
     "data": {
      "image/png": "[encoded data removed]",
      "text/plain": [
       "<Figure size 576x396 with 1 Axes>"
      ]
     },
     "metadata": {},
     "output_type": "display_data"
    },
    {
     "data": {
      "image/png": "[encoded data removed]",
      "text/plain": [
       "<Figure size 576x396 with 1 Axes>"
      ]
     },
     "metadata": {},
     "output_type": "display_data"
    },
    {
     "data": {
      "image/png": "[encoded data removed]",
      "text/plain": [
       "<Figure size 576x396 with 1 Axes>"
      ]
     },
     "metadata": {},
     "output_type": "display_data"
    }
   ],
   "source": [
    "for algorithm in algorithms:\n",
    "    for vectorizer in vectorizers:\n",
    "        evaluate_model(X, y, algorithm, vectorizer)"
   ]
  },
  {
   "cell_type": "code",
   "execution_count": null,
   "id": "8c38a99b",
   "metadata": {},
   "outputs": [],
   "source": [
    "# Hyperparameter Tuning with Grid search \n",
    "\n",
    "grid_search = GridSearchCV(RandomForestRegressor(random_state=0),\n",
    "                           {\n",
    "                              'n_estimators':np.arange(5,100,5),\n",
    "                              'max_features':np.arange(0.1,1.0,0.05),\n",
    "                            \n",
    "                            },cv=5, scoring=\"r2\",verbose=1,n_jobs=-1\n",
    "                           )\n",
    "grid_search.fit(X_train,y_train)"
   ]
  },
  {
   "cell_type": "code",
   "execution_count": null,
   "id": "1a435216",
   "metadata": {},
   "outputs": [],
   "source": [
    "grid_search.best_params_"
   ]
  },
  {
   "cell_type": "code",
   "execution_count": null,
   "id": "5aa86224",
   "metadata": {},
   "outputs": [],
   "source": [
    "grid_search.best_scores_"
   ]
  },
  {
   "cell_type": "code",
   "execution_count": 225,
   "id": "0e4f4ca3",
   "metadata": {},
   "outputs": [
    {
     "ename": "NameError",
     "evalue": "name 'X_train' is not defined",
     "output_type": "error",
     "traceback": [
      "\u001b[1;31m---------------------------------------------------------------------------\u001b[0m",
      "\u001b[1;31mNameError\u001b[0m                                 Traceback (most recent call last)",
      "\u001b[1;32m<ipython-input-225-5d43dda6bbbe>\u001b[0m in \u001b[0;36m<module>\u001b[1;34m\u001b[0m\n\u001b[0;32m      6\u001b[0m                              \u001b[0mn_iter\u001b[0m\u001b[1;33m=\u001b[0m\u001b[1;36m50\u001b[0m\u001b[1;33m,\u001b[0m \u001b[0mrandom_state\u001b[0m \u001b[1;33m=\u001b[0m \u001b[1;36m0\u001b[0m\u001b[1;33m\u001b[0m\u001b[0m\n\u001b[0;32m      7\u001b[0m                            )\n\u001b[1;32m----> 8\u001b[1;33m \u001b[0mrandom_search\u001b[0m\u001b[1;33m.\u001b[0m\u001b[0mfit\u001b[0m\u001b[1;33m(\u001b[0m\u001b[0mX_train\u001b[0m\u001b[1;33m,\u001b[0m\u001b[0my_train\u001b[0m\u001b[1;33m)\u001b[0m\u001b[1;33m\u001b[0m\u001b[0m\n\u001b[0m",
      "\u001b[1;31mNameError\u001b[0m: name 'X_train' is not defined"
     ]
    }
   ],
   "source": [
    "random_search = RandomizedSearchCV(RandomForestRegressor(random_state=0),\n",
    "                           {\n",
    "                              'n_estimators':np.arange(5,100,5),\n",
    "                              'max_features':np.arange(0.1,1.0,0.05),\n",
    "                            },cv=5, scoring=\"r2\",verbose=1,n_jobs=-1, \n",
    "                             n_iter=50, random_state = 0\n",
    "                           )\n",
    "random_search.fit(X_train,y_train)"
   ]
  },
  {
   "cell_type": "code",
   "execution_count": null,
   "id": "a86a00be",
   "metadata": {},
   "outputs": [],
   "source": [
    "random_search.best_params_"
   ]
  },
  {
   "cell_type": "code",
   "execution_count": null,
   "id": "407a35c1",
   "metadata": {},
   "outputs": [],
   "source": [
    "random_search.best_scores_"
   ]
  },
  {
   "cell_type": "code",
   "execution_count": null,
   "id": "40cc1c27",
   "metadata": {},
   "outputs": [],
   "source": []
  }
 ],
 "metadata": {
  "kernelspec": {
   "display_name": "Python 3",
   "language": "python",
   "name": "python3"
  },
  "language_info": {
   "codemirror_mode": {
    "name": "ipython",
    "version": 3
   },
   "file_extension": ".py",
   "mimetype": "text/x-python",
   "name": "python",
   "nbconvert_exporter": "python",
   "pygments_lexer": "ipython3",
   "version": "3.7.0"
  }
 },
 "nbformat": 4,
 "nbformat_minor": 5
}
